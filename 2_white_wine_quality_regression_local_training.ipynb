{
 "cells": [
  {
   "cell_type": "markdown",
   "id": "f5343d1b",
   "metadata": {},
   "source": [
    "# White Wine Quality Regression - Local Train"
   ]
  },
  {
   "cell_type": "code",
   "execution_count": 1,
   "id": "f6f4e2fb",
   "metadata": {},
   "outputs": [],
   "source": [
    "import numpy as np\n",
    "import pandas as pd \n",
    "import matplotlib.pyplot as plt\n",
    "import seaborn as sns"
   ]
  },
  {
   "cell_type": "code",
   "execution_count": 2,
   "id": "a4728a40",
   "metadata": {},
   "outputs": [],
   "source": [
    "import random\n",
    "random.seed(42)"
   ]
  },
  {
   "cell_type": "code",
   "execution_count": 3,
   "id": "07dcad38",
   "metadata": {},
   "outputs": [],
   "source": [
    "from matplotlib import rcParams\n",
    "rcParams['figure.figsize'] = (10, 6)\n",
    "rcParams['axes.spines.top'] = False\n",
    "rcParams['axes.spines.right'] = False"
   ]
  },
  {
   "cell_type": "markdown",
   "id": "cc117154",
   "metadata": {},
   "source": [
    "## Dataset\n",
    "- https://archive.ics.uci.edu/ml/datasets/wine+quality"
   ]
  },
  {
   "cell_type": "code",
   "execution_count": 5,
   "id": "4b00049b",
   "metadata": {},
   "outputs": [
    {
     "name": "stderr",
     "output_type": "stream",
     "text": [
      "Parameter format not correct - \"data\".\n"
     ]
    }
   ],
   "source": [
    "!ls ./data"
   ]
  },
  {
   "cell_type": "code",
   "execution_count": 6,
   "id": "f47938a5",
   "metadata": {},
   "outputs": [
    {
     "data": {
      "text/plain": [
       "(4898, 12)"
      ]
     },
     "execution_count": 6,
     "metadata": {},
     "output_type": "execute_result"
    }
   ],
   "source": [
    "df = pd.read_csv('./data/winequality-white.csv', delimiter=';')\n",
    "df.shape"
   ]
  },
  {
   "cell_type": "code",
   "execution_count": 7,
   "id": "7cade39b",
   "metadata": {},
   "outputs": [
    {
     "data": {
      "text/html": [
       "<div>\n",
       "<style scoped>\n",
       "    .dataframe tbody tr th:only-of-type {\n",
       "        vertical-align: middle;\n",
       "    }\n",
       "\n",
       "    .dataframe tbody tr th {\n",
       "        vertical-align: top;\n",
       "    }\n",
       "\n",
       "    .dataframe thead th {\n",
       "        text-align: right;\n",
       "    }\n",
       "</style>\n",
       "<table border=\"1\" class=\"dataframe\">\n",
       "  <thead>\n",
       "    <tr style=\"text-align: right;\">\n",
       "      <th></th>\n",
       "      <th>fixed acidity</th>\n",
       "      <th>volatile acidity</th>\n",
       "      <th>citric acid</th>\n",
       "      <th>residual sugar</th>\n",
       "      <th>chlorides</th>\n",
       "      <th>free sulfur dioxide</th>\n",
       "      <th>total sulfur dioxide</th>\n",
       "      <th>density</th>\n",
       "      <th>pH</th>\n",
       "      <th>sulphates</th>\n",
       "      <th>alcohol</th>\n",
       "      <th>quality</th>\n",
       "    </tr>\n",
       "  </thead>\n",
       "  <tbody>\n",
       "    <tr>\n",
       "      <th>0</th>\n",
       "      <td>7.0</td>\n",
       "      <td>0.27</td>\n",
       "      <td>0.36</td>\n",
       "      <td>20.7</td>\n",
       "      <td>0.045</td>\n",
       "      <td>45.0</td>\n",
       "      <td>170.0</td>\n",
       "      <td>1.0010</td>\n",
       "      <td>3.00</td>\n",
       "      <td>0.45</td>\n",
       "      <td>8.8</td>\n",
       "      <td>6</td>\n",
       "    </tr>\n",
       "    <tr>\n",
       "      <th>1</th>\n",
       "      <td>6.3</td>\n",
       "      <td>0.30</td>\n",
       "      <td>0.34</td>\n",
       "      <td>1.6</td>\n",
       "      <td>0.049</td>\n",
       "      <td>14.0</td>\n",
       "      <td>132.0</td>\n",
       "      <td>0.9940</td>\n",
       "      <td>3.30</td>\n",
       "      <td>0.49</td>\n",
       "      <td>9.5</td>\n",
       "      <td>6</td>\n",
       "    </tr>\n",
       "    <tr>\n",
       "      <th>2</th>\n",
       "      <td>8.1</td>\n",
       "      <td>0.28</td>\n",
       "      <td>0.40</td>\n",
       "      <td>6.9</td>\n",
       "      <td>0.050</td>\n",
       "      <td>30.0</td>\n",
       "      <td>97.0</td>\n",
       "      <td>0.9951</td>\n",
       "      <td>3.26</td>\n",
       "      <td>0.44</td>\n",
       "      <td>10.1</td>\n",
       "      <td>6</td>\n",
       "    </tr>\n",
       "    <tr>\n",
       "      <th>3</th>\n",
       "      <td>7.2</td>\n",
       "      <td>0.23</td>\n",
       "      <td>0.32</td>\n",
       "      <td>8.5</td>\n",
       "      <td>0.058</td>\n",
       "      <td>47.0</td>\n",
       "      <td>186.0</td>\n",
       "      <td>0.9956</td>\n",
       "      <td>3.19</td>\n",
       "      <td>0.40</td>\n",
       "      <td>9.9</td>\n",
       "      <td>6</td>\n",
       "    </tr>\n",
       "    <tr>\n",
       "      <th>4</th>\n",
       "      <td>7.2</td>\n",
       "      <td>0.23</td>\n",
       "      <td>0.32</td>\n",
       "      <td>8.5</td>\n",
       "      <td>0.058</td>\n",
       "      <td>47.0</td>\n",
       "      <td>186.0</td>\n",
       "      <td>0.9956</td>\n",
       "      <td>3.19</td>\n",
       "      <td>0.40</td>\n",
       "      <td>9.9</td>\n",
       "      <td>6</td>\n",
       "    </tr>\n",
       "  </tbody>\n",
       "</table>\n",
       "</div>"
      ],
      "text/plain": [
       "   fixed acidity  volatile acidity  citric acid  residual sugar  chlorides  \\\n",
       "0            7.0              0.27         0.36            20.7      0.045   \n",
       "1            6.3              0.30         0.34             1.6      0.049   \n",
       "2            8.1              0.28         0.40             6.9      0.050   \n",
       "3            7.2              0.23         0.32             8.5      0.058   \n",
       "4            7.2              0.23         0.32             8.5      0.058   \n",
       "\n",
       "   free sulfur dioxide  total sulfur dioxide  density    pH  sulphates  \\\n",
       "0                 45.0                 170.0   1.0010  3.00       0.45   \n",
       "1                 14.0                 132.0   0.9940  3.30       0.49   \n",
       "2                 30.0                  97.0   0.9951  3.26       0.44   \n",
       "3                 47.0                 186.0   0.9956  3.19       0.40   \n",
       "4                 47.0                 186.0   0.9956  3.19       0.40   \n",
       "\n",
       "   alcohol  quality  \n",
       "0      8.8        6  \n",
       "1      9.5        6  \n",
       "2     10.1        6  \n",
       "3      9.9        6  \n",
       "4      9.9        6  "
      ]
     },
     "execution_count": 7,
     "metadata": {},
     "output_type": "execute_result"
    }
   ],
   "source": [
    "df.head()"
   ]
  },
  {
   "cell_type": "code",
   "execution_count": 8,
   "id": "0aae09f0",
   "metadata": {},
   "outputs": [
    {
     "name": "stdout",
     "output_type": "stream",
     "text": [
      "<class 'pandas.core.frame.DataFrame'>\n",
      "RangeIndex: 4898 entries, 0 to 4897\n",
      "Data columns (total 12 columns):\n",
      " #   Column                Non-Null Count  Dtype  \n",
      "---  ------                --------------  -----  \n",
      " 0   fixed acidity         4898 non-null   float64\n",
      " 1   volatile acidity      4898 non-null   float64\n",
      " 2   citric acid           4898 non-null   float64\n",
      " 3   residual sugar        4898 non-null   float64\n",
      " 4   chlorides             4898 non-null   float64\n",
      " 5   free sulfur dioxide   4898 non-null   float64\n",
      " 6   total sulfur dioxide  4898 non-null   float64\n",
      " 7   density               4898 non-null   float64\n",
      " 8   pH                    4898 non-null   float64\n",
      " 9   sulphates             4898 non-null   float64\n",
      " 10  alcohol               4898 non-null   float64\n",
      " 11  quality               4898 non-null   int64  \n",
      "dtypes: float64(11), int64(1)\n",
      "memory usage: 459.3 KB\n"
     ]
    }
   ],
   "source": [
    "df.info()"
   ]
  },
  {
   "cell_type": "code",
   "execution_count": 9,
   "id": "22a0cb40",
   "metadata": {},
   "outputs": [
    {
     "data": {
      "text/plain": [
       "fixed acidity           0\n",
       "volatile acidity        0\n",
       "citric acid             0\n",
       "residual sugar          0\n",
       "chlorides               0\n",
       "free sulfur dioxide     0\n",
       "total sulfur dioxide    0\n",
       "density                 0\n",
       "pH                      0\n",
       "sulphates               0\n",
       "alcohol                 0\n",
       "quality                 0\n",
       "dtype: int64"
      ]
     },
     "execution_count": 9,
     "metadata": {},
     "output_type": "execute_result"
    }
   ],
   "source": [
    "# Verify if values are all non \n",
    "df.isnull().sum()"
   ]
  },
  {
   "cell_type": "code",
   "execution_count": 10,
   "id": "b520ba4f",
   "metadata": {},
   "outputs": [
    {
     "data": {
      "text/plain": [
       "6    2198\n",
       "5    1457\n",
       "7     880\n",
       "8     175\n",
       "4     163\n",
       "3      20\n",
       "9       5\n",
       "Name: quality, dtype: int64"
      ]
     },
     "execution_count": 10,
     "metadata": {},
     "output_type": "execute_result"
    }
   ],
   "source": [
    "df.quality.value_counts()"
   ]
  },
  {
   "cell_type": "code",
   "execution_count": 11,
   "id": "9cbe9b61",
   "metadata": {},
   "outputs": [
    {
     "data": {
      "image/png": "[encoded data removed]",
      "text/plain": [
       "<Figure size 720x432 with 1 Axes>"
      ]
     },
     "metadata": {
      "needs_background": "light"
     },
     "output_type": "display_data"
    }
   ],
   "source": [
    "sns.countplot(x=df['quality']);"
   ]
  },
  {
   "cell_type": "code",
   "execution_count": 12,
   "id": "822cf147",
   "metadata": {},
   "outputs": [
    {
     "data": {
      "text/plain": [
       "{3, 4, 5, 6, 7, 8, 9}"
      ]
     },
     "execution_count": 12,
     "metadata": {},
     "output_type": "execute_result"
    }
   ],
   "source": [
    "set(df.quality)"
   ]
  },
  {
   "cell_type": "code",
   "execution_count": 13,
   "id": "8629bf1d",
   "metadata": {},
   "outputs": [
    {
     "data": {
      "text/html": [
       "<div>\n",
       "<style scoped>\n",
       "    .dataframe tbody tr th:only-of-type {\n",
       "        vertical-align: middle;\n",
       "    }\n",
       "\n",
       "    .dataframe tbody tr th {\n",
       "        vertical-align: top;\n",
       "    }\n",
       "\n",
       "    .dataframe thead th {\n",
       "        text-align: right;\n",
       "    }\n",
       "</style>\n",
       "<table border=\"1\" class=\"dataframe\">\n",
       "  <thead>\n",
       "    <tr style=\"text-align: right;\">\n",
       "      <th></th>\n",
       "      <th>count</th>\n",
       "      <th>mean</th>\n",
       "      <th>std</th>\n",
       "      <th>min</th>\n",
       "      <th>25%</th>\n",
       "      <th>50%</th>\n",
       "      <th>75%</th>\n",
       "      <th>max</th>\n",
       "    </tr>\n",
       "  </thead>\n",
       "  <tbody>\n",
       "    <tr>\n",
       "      <th>fixed acidity</th>\n",
       "      <td>4898.0</td>\n",
       "      <td>6.854788</td>\n",
       "      <td>0.843868</td>\n",
       "      <td>3.80000</td>\n",
       "      <td>6.300000</td>\n",
       "      <td>6.80000</td>\n",
       "      <td>7.3000</td>\n",
       "      <td>14.20000</td>\n",
       "    </tr>\n",
       "    <tr>\n",
       "      <th>volatile acidity</th>\n",
       "      <td>4898.0</td>\n",
       "      <td>0.278241</td>\n",
       "      <td>0.100795</td>\n",
       "      <td>0.08000</td>\n",
       "      <td>0.210000</td>\n",
       "      <td>0.26000</td>\n",
       "      <td>0.3200</td>\n",
       "      <td>1.10000</td>\n",
       "    </tr>\n",
       "    <tr>\n",
       "      <th>citric acid</th>\n",
       "      <td>4898.0</td>\n",
       "      <td>0.334192</td>\n",
       "      <td>0.121020</td>\n",
       "      <td>0.00000</td>\n",
       "      <td>0.270000</td>\n",
       "      <td>0.32000</td>\n",
       "      <td>0.3900</td>\n",
       "      <td>1.66000</td>\n",
       "    </tr>\n",
       "    <tr>\n",
       "      <th>residual sugar</th>\n",
       "      <td>4898.0</td>\n",
       "      <td>6.391415</td>\n",
       "      <td>5.072058</td>\n",
       "      <td>0.60000</td>\n",
       "      <td>1.700000</td>\n",
       "      <td>5.20000</td>\n",
       "      <td>9.9000</td>\n",
       "      <td>65.80000</td>\n",
       "    </tr>\n",
       "    <tr>\n",
       "      <th>chlorides</th>\n",
       "      <td>4898.0</td>\n",
       "      <td>0.045772</td>\n",
       "      <td>0.021848</td>\n",
       "      <td>0.00900</td>\n",
       "      <td>0.036000</td>\n",
       "      <td>0.04300</td>\n",
       "      <td>0.0500</td>\n",
       "      <td>0.34600</td>\n",
       "    </tr>\n",
       "    <tr>\n",
       "      <th>free sulfur dioxide</th>\n",
       "      <td>4898.0</td>\n",
       "      <td>35.308085</td>\n",
       "      <td>17.007137</td>\n",
       "      <td>2.00000</td>\n",
       "      <td>23.000000</td>\n",
       "      <td>34.00000</td>\n",
       "      <td>46.0000</td>\n",
       "      <td>289.00000</td>\n",
       "    </tr>\n",
       "    <tr>\n",
       "      <th>total sulfur dioxide</th>\n",
       "      <td>4898.0</td>\n",
       "      <td>138.360657</td>\n",
       "      <td>42.498065</td>\n",
       "      <td>9.00000</td>\n",
       "      <td>108.000000</td>\n",
       "      <td>134.00000</td>\n",
       "      <td>167.0000</td>\n",
       "      <td>440.00000</td>\n",
       "    </tr>\n",
       "    <tr>\n",
       "      <th>density</th>\n",
       "      <td>4898.0</td>\n",
       "      <td>0.994027</td>\n",
       "      <td>0.002991</td>\n",
       "      <td>0.98711</td>\n",
       "      <td>0.991723</td>\n",
       "      <td>0.99374</td>\n",
       "      <td>0.9961</td>\n",
       "      <td>1.03898</td>\n",
       "    </tr>\n",
       "    <tr>\n",
       "      <th>pH</th>\n",
       "      <td>4898.0</td>\n",
       "      <td>3.188267</td>\n",
       "      <td>0.151001</td>\n",
       "      <td>2.72000</td>\n",
       "      <td>3.090000</td>\n",
       "      <td>3.18000</td>\n",
       "      <td>3.2800</td>\n",
       "      <td>3.82000</td>\n",
       "    </tr>\n",
       "    <tr>\n",
       "      <th>sulphates</th>\n",
       "      <td>4898.0</td>\n",
       "      <td>0.489847</td>\n",
       "      <td>0.114126</td>\n",
       "      <td>0.22000</td>\n",
       "      <td>0.410000</td>\n",
       "      <td>0.47000</td>\n",
       "      <td>0.5500</td>\n",
       "      <td>1.08000</td>\n",
       "    </tr>\n",
       "    <tr>\n",
       "      <th>alcohol</th>\n",
       "      <td>4898.0</td>\n",
       "      <td>10.514267</td>\n",
       "      <td>1.230621</td>\n",
       "      <td>8.00000</td>\n",
       "      <td>9.500000</td>\n",
       "      <td>10.40000</td>\n",
       "      <td>11.4000</td>\n",
       "      <td>14.20000</td>\n",
       "    </tr>\n",
       "    <tr>\n",
       "      <th>quality</th>\n",
       "      <td>4898.0</td>\n",
       "      <td>5.877909</td>\n",
       "      <td>0.885639</td>\n",
       "      <td>3.00000</td>\n",
       "      <td>5.000000</td>\n",
       "      <td>6.00000</td>\n",
       "      <td>6.0000</td>\n",
       "      <td>9.00000</td>\n",
       "    </tr>\n",
       "  </tbody>\n",
       "</table>\n",
       "</div>"
      ],
      "text/plain": [
       "                       count        mean        std      min         25%  \\\n",
       "fixed acidity         4898.0    6.854788   0.843868  3.80000    6.300000   \n",
       "volatile acidity      4898.0    0.278241   0.100795  0.08000    0.210000   \n",
       "citric acid           4898.0    0.334192   0.121020  0.00000    0.270000   \n",
       "residual sugar        4898.0    6.391415   5.072058  0.60000    1.700000   \n",
       "chlorides             4898.0    0.045772   0.021848  0.00900    0.036000   \n",
       "free sulfur dioxide   4898.0   35.308085  17.007137  2.00000   23.000000   \n",
       "total sulfur dioxide  4898.0  138.360657  42.498065  9.00000  108.000000   \n",
       "density               4898.0    0.994027   0.002991  0.98711    0.991723   \n",
       "pH                    4898.0    3.188267   0.151001  2.72000    3.090000   \n",
       "sulphates             4898.0    0.489847   0.114126  0.22000    0.410000   \n",
       "alcohol               4898.0   10.514267   1.230621  8.00000    9.500000   \n",
       "quality               4898.0    5.877909   0.885639  3.00000    5.000000   \n",
       "\n",
       "                            50%       75%        max  \n",
       "fixed acidity           6.80000    7.3000   14.20000  \n",
       "volatile acidity        0.26000    0.3200    1.10000  \n",
       "citric acid             0.32000    0.3900    1.66000  \n",
       "residual sugar          5.20000    9.9000   65.80000  \n",
       "chlorides               0.04300    0.0500    0.34600  \n",
       "free sulfur dioxide    34.00000   46.0000  289.00000  \n",
       "total sulfur dioxide  134.00000  167.0000  440.00000  \n",
       "density                 0.99374    0.9961    1.03898  \n",
       "pH                      3.18000    3.2800    3.82000  \n",
       "sulphates               0.47000    0.5500    1.08000  \n",
       "alcohol                10.40000   11.4000   14.20000  \n",
       "quality                 6.00000    6.0000    9.00000  "
      ]
     },
     "execution_count": 13,
     "metadata": {},
     "output_type": "execute_result"
    }
   ],
   "source": [
    "df.describe().T"
   ]
  },
  {
   "cell_type": "code",
   "execution_count": 14,
   "id": "6e97bb35",
   "metadata": {},
   "outputs": [
    {
     "data": {
      "image/png": "[encoded data removed]",
      "text/plain": [
       "<Figure size 864x864 with 12 Axes>"
      ]
     },
     "metadata": {
      "needs_background": "light"
     },
     "output_type": "display_data"
    }
   ],
   "source": [
    "df.hist(bins=50, figsize=(12,12), grid=False);"
   ]
  },
  {
   "cell_type": "code",
   "execution_count": 15,
   "id": "598fa83a",
   "metadata": {},
   "outputs": [
    {
     "data": {
      "text/plain": [
       "['fixed acidity',\n",
       " 'volatile acidity',\n",
       " 'citric acid',\n",
       " 'residual sugar',\n",
       " 'chlorides',\n",
       " 'free sulfur dioxide',\n",
       " 'total sulfur dioxide',\n",
       " 'density',\n",
       " 'pH',\n",
       " 'sulphates',\n",
       " 'alcohol']"
      ]
     },
     "execution_count": 15,
     "metadata": {},
     "output_type": "execute_result"
    }
   ],
   "source": [
    "features_list = list(df.columns[:-1])\n",
    "features_list"
   ]
  },
  {
   "cell_type": "code",
   "execution_count": 16,
   "id": "0b57b94c",
   "metadata": {},
   "outputs": [
    {
     "data": {
      "image/png": "[encoded data removed]",
      "text/plain": [
       "<Figure size 864x864 with 12 Axes>"
      ]
     },
     "metadata": {
      "needs_background": "light"
     },
     "output_type": "display_data"
    }
   ],
   "source": [
    "df[features_list].hist(bins=30, edgecolor='b', linewidth=1.0,\n",
    "                          xlabelsize=8, ylabelsize=8, grid=False, \n",
    "                          figsize=(12,12), color='orange')    \n",
    "plt.tight_layout(rect=(0, 0, 1.2, 1.2))   \n",
    "plt.suptitle('White Wine Univariate Analysis', x=0.65, y=1.25, fontsize=20); "
   ]
  },
  {
   "cell_type": "markdown",
   "id": "9a4e3472",
   "metadata": {},
   "source": [
    "## Pre-Process data"
   ]
  },
  {
   "cell_type": "markdown",
   "id": "591d22ba",
   "metadata": {},
   "source": [
    "**Prepare transformer**"
   ]
  },
  {
   "cell_type": "code",
   "execution_count": 17,
   "id": "d478c624",
   "metadata": {},
   "outputs": [],
   "source": [
    "from sklearn.compose import make_column_transformer\n",
    "from sklearn.preprocessing import MinMaxScaler\n",
    "\n",
    "transformer = make_column_transformer(\n",
    "    (MinMaxScaler(), features_list)\n",
    ")"
   ]
  },
  {
   "cell_type": "code",
   "execution_count": 18,
   "id": "9aca5c05",
   "metadata": {},
   "outputs": [
    {
     "data": {
      "text/plain": [
       "((4898, 11), (4898,))"
      ]
     },
     "execution_count": 18,
     "metadata": {},
     "output_type": "execute_result"
    }
   ],
   "source": [
    "X = df.drop('quality', axis=1)\n",
    "y = df['quality']\n",
    "X.shape, y.shape"
   ]
  },
  {
   "cell_type": "markdown",
   "id": "023cec93",
   "metadata": {},
   "source": [
    "## Training"
   ]
  },
  {
   "cell_type": "code",
   "execution_count": 19,
   "id": "99d5f5de",
   "metadata": {},
   "outputs": [],
   "source": [
    "import sys, os\n",
    "import tensorflow as tf\n",
    "\n",
    "import logging\n",
    "tf.get_logger().setLevel(logging.ERROR)\n",
    "os.environ['TF_CPP_MIN_LOG_LEVEL'] = '2'"
   ]
  },
  {
   "cell_type": "code",
   "execution_count": 20,
   "id": "af94f8f2",
   "metadata": {},
   "outputs": [],
   "source": [
    "# Set random seeds for repeatable results\n",
    "RANDOM_SEED = 3\n",
    "tf.random.set_seed(RANDOM_SEED)"
   ]
  },
  {
   "cell_type": "markdown",
   "id": "0f931343",
   "metadata": {},
   "source": [
    "### Working with Single-Output Regression"
   ]
  },
  {
   "cell_type": "markdown",
   "id": "f34fa2ef",
   "metadata": {},
   "source": [
    "**Split data**"
   ]
  },
  {
   "cell_type": "code",
   "execution_count": 21,
   "id": "10cc0db7",
   "metadata": {},
   "outputs": [
    {
     "data": {
      "text/plain": [
       "((3918, 11), (980, 11))"
      ]
     },
     "execution_count": 21,
     "metadata": {},
     "output_type": "execute_result"
    }
   ],
   "source": [
    "from sklearn.model_selection import train_test_split\n",
    "\n",
    "X_train, X_test, y_train, y_test = train_test_split(X, y, test_size=0.2, random_state=42)\n",
    "X_train.shape, X_test.shape"
   ]
  },
  {
   "cell_type": "markdown",
   "id": "81042273",
   "metadata": {},
   "source": [
    "**Scale values**"
   ]
  },
  {
   "cell_type": "code",
   "execution_count": 22,
   "id": "8d410458",
   "metadata": {},
   "outputs": [],
   "source": [
    "# Fit on the train set\n",
    "transformer.fit(X_train)\n",
    "\n",
    "# Apply the transformation\n",
    "X_train = transformer.transform(X_train)\n",
    "X_test = transformer.transform(X_test)"
   ]
  },
  {
   "cell_type": "code",
   "execution_count": 23,
   "id": "19016810",
   "metadata": {},
   "outputs": [
    {
     "data": {
      "text/plain": [
       "((3918, 11), (980, 11))"
      ]
     },
     "execution_count": 23,
     "metadata": {},
     "output_type": "execute_result"
    }
   ],
   "source": [
    "X_train.shape, X_test.shape"
   ]
  },
  {
   "cell_type": "code",
   "execution_count": 24,
   "id": "63c67047",
   "metadata": {},
   "outputs": [
    {
     "data": {
      "text/plain": [
       "array([0.4375    , 0.08823529, 0.21686747, 0.11656442, 0.05637982,\n",
       "       0.28571429, 0.33333333, 0.108155  , 0.38181818, 0.22093023,\n",
       "       0.70967742])"
      ]
     },
     "execution_count": 24,
     "metadata": {},
     "output_type": "execute_result"
    }
   ],
   "source": [
    "X_train[0]"
   ]
  },
  {
   "cell_type": "code",
   "execution_count": 25,
   "id": "89f29a75",
   "metadata": {},
   "outputs": [
    {
     "data": {
      "text/plain": [
       "array([[0.4375    , 0.08823529, 0.21686747, ..., 0.38181818, 0.22093023,\n",
       "        0.70967742],\n",
       "       [0.3125    , 0.16666667, 0.26506024, ..., 0.41818182, 0.34883721,\n",
       "        0.24193548],\n",
       "       [0.225     , 0.23529412, 0.19879518, ..., 0.48181818, 0.31395349,\n",
       "        0.5       ],\n",
       "       ...,\n",
       "       [0.475     , 0.18627451, 0.31325301, ..., 0.27272727, 0.36046512,\n",
       "        0.5483871 ],\n",
       "       [0.3125    , 0.15686275, 0.1746988 , ..., 0.40909091, 0.18604651,\n",
       "        0.41935484],\n",
       "       [0.5375    , 0.18627451, 0.21084337, ..., 0.45454545, 0.47674419,\n",
       "        0.38709677]])"
      ]
     },
     "execution_count": 25,
     "metadata": {},
     "output_type": "execute_result"
    }
   ],
   "source": [
    "X_train"
   ]
  },
  {
   "cell_type": "code",
   "execution_count": 26,
   "id": "fd2d5ec1",
   "metadata": {},
   "outputs": [
    {
     "data": {
      "text/plain": [
       "4665    6\n",
       "1943    5\n",
       "3399    6\n",
       "843     7\n",
       "2580    5\n",
       "       ..\n",
       "4426    6\n",
       "466     6\n",
       "3092    6\n",
       "3772    6\n",
       "860     8\n",
       "Name: quality, Length: 3918, dtype: int64"
      ]
     },
     "execution_count": 26,
     "metadata": {},
     "output_type": "execute_result"
    }
   ],
   "source": [
    "y_train"
   ]
  },
  {
   "cell_type": "code",
   "execution_count": 27,
   "id": "57023282",
   "metadata": {},
   "outputs": [],
   "source": [
    "# The output should be continuous \n",
    "y_train = y_train.astype('float32')"
   ]
  },
  {
   "cell_type": "code",
   "execution_count": 28,
   "id": "822a4f49",
   "metadata": {},
   "outputs": [
    {
     "data": {
      "text/plain": [
       "4665    6.0\n",
       "1943    5.0\n",
       "3399    6.0\n",
       "843     7.0\n",
       "2580    5.0\n",
       "       ... \n",
       "4426    6.0\n",
       "466     6.0\n",
       "3092    6.0\n",
       "3772    6.0\n",
       "860     8.0\n",
       "Name: quality, Length: 3918, dtype: float32"
      ]
     },
     "execution_count": 28,
     "metadata": {},
     "output_type": "execute_result"
    }
   ],
   "source": [
    "y_train"
   ]
  },
  {
   "cell_type": "code",
   "execution_count": 29,
   "id": "17ce6876",
   "metadata": {},
   "outputs": [
    {
     "data": {
      "text/plain": [
       "3918"
      ]
     },
     "execution_count": 29,
     "metadata": {},
     "output_type": "execute_result"
    }
   ],
   "source": [
    "# Remember the number of samples in the test set\n",
    "num_samples_train = len(X_train)\n",
    "num_samples_train"
   ]
  },
  {
   "cell_type": "code",
   "execution_count": 30,
   "id": "d10bdf32",
   "metadata": {},
   "outputs": [
    {
     "data": {
      "text/plain": [
       "980"
      ]
     },
     "execution_count": 30,
     "metadata": {},
     "output_type": "execute_result"
    }
   ],
   "source": [
    "num_samples_test = len(X_test)\n",
    "num_samples_test"
   ]
  },
  {
   "cell_type": "code",
   "execution_count": 31,
   "id": "3efe0cc0",
   "metadata": {},
   "outputs": [
    {
     "data": {
      "text/plain": [
       "11"
      ]
     },
     "execution_count": 31,
     "metadata": {},
     "output_type": "execute_result"
    }
   ],
   "source": [
    "X_train.shape[1]"
   ]
  },
  {
   "cell_type": "code",
   "execution_count": 32,
   "id": "58c8158e",
   "metadata": {},
   "outputs": [
    {
     "name": "stdout",
     "output_type": "stream",
     "text": [
      "(3134, 11) (3134,)\n",
      "(784, 11) (784,)\n"
     ]
    }
   ],
   "source": [
    "X_train, X_val, y_train, y_val = train_test_split(X_train, y_train, test_size=0.2, random_state=1)\n",
    "print(X_train.shape, y_train.shape)\n",
    "print(X_val.shape, y_val.shape)"
   ]
  },
  {
   "cell_type": "code",
   "execution_count": 33,
   "id": "4494830b",
   "metadata": {},
   "outputs": [],
   "source": [
    "import tensorflow as tf\n",
    "from tensorflow.keras import Sequential\n",
    "from tensorflow.keras.layers import Dense, Input\n",
    "from tensorflow.keras.optimizers import Adam\n",
    "from tensorflow.keras import backend as K"
   ]
  },
  {
   "cell_type": "code",
   "execution_count": 34,
   "id": "ebfecc2e",
   "metadata": {},
   "outputs": [],
   "source": [
    "def rmse(y_true, y_pred):\n",
    "    return K.sqrt(K.mean(K.square(y_pred - y_true)))"
   ]
  },
  {
   "cell_type": "code",
   "execution_count": 35,
   "id": "34152b78",
   "metadata": {
    "scrolled": true
   },
   "outputs": [
    {
     "data": {
      "text/plain": [
       "(4898, 11)"
      ]
     },
     "execution_count": 35,
     "metadata": {},
     "output_type": "execute_result"
    }
   ],
   "source": [
    "X.shape"
   ]
  },
  {
   "cell_type": "code",
   "execution_count": 36,
   "id": "e3ac7f2a",
   "metadata": {},
   "outputs": [
    {
     "name": "stdout",
     "output_type": "stream",
     "text": [
      "Model: \"sequential\"\n",
      "_________________________________________________________________\n",
      " Layer (type)                Output Shape              Param #   \n",
      "=================================================================\n",
      " dense (Dense)               (None, 20)                240       \n",
      "                                                                 \n",
      " dense_1 (Dense)             (None, 10)                210       \n",
      "                                                                 \n",
      " dense_2 (Dense)             (None, 1)                 11        \n",
      "                                                                 \n",
      "=================================================================\n",
      "Total params: 461\n",
      "Trainable params: 461\n",
      "Non-trainable params: 0\n",
      "_________________________________________________________________\n"
     ]
    }
   ],
   "source": [
    "tf.random.set_seed(42)\n",
    "\n",
    "model = Sequential([\n",
    "    Input(shape=(X_train.shape[1],)),\n",
    "    Dense(20, activation='relu'),\n",
    "    Dense(10, activation='relu'),\n",
    "    Dense(1)\n",
    "])\n",
    "\n",
    "model.compile(\n",
    "    loss=rmse,\n",
    "    optimizer=Adam(),\n",
    "    metrics=[rmse]\n",
    ")\n",
    "\n",
    "model.summary()"
   ]
  },
  {
   "cell_type": "code",
   "execution_count": 37,
   "id": "592e9383",
   "metadata": {
    "scrolled": true
   },
   "outputs": [
    {
     "name": "stdout",
     "output_type": "stream",
     "text": [
      "Epoch 1/100\n",
      "98/98 - 1s - loss: 5.8278 - rmse: 5.8276 - val_loss: 5.4977 - val_rmse: 5.4907 - 860ms/epoch - 9ms/step\n",
      "Epoch 2/100\n",
      "98/98 - 0s - loss: 4.3821 - rmse: 4.3807 - val_loss: 1.9856 - val_rmse: 1.9795 - 122ms/epoch - 1ms/step\n",
      "Epoch 3/100\n",
      "98/98 - 0s - loss: 1.0483 - rmse: 1.0483 - val_loss: 0.8970 - val_rmse: 0.8986 - 216ms/epoch - 2ms/step\n",
      "Epoch 4/100\n",
      "98/98 - 0s - loss: 0.9134 - rmse: 0.9134 - val_loss: 0.8570 - val_rmse: 0.8592 - 137ms/epoch - 1ms/step\n",
      "Epoch 5/100\n",
      "98/98 - 0s - loss: 0.8702 - rmse: 0.8703 - val_loss: 0.8148 - val_rmse: 0.8165 - 118ms/epoch - 1ms/step\n",
      "Epoch 6/100\n",
      "98/98 - 0s - loss: 0.8497 - rmse: 0.8495 - val_loss: 0.7929 - val_rmse: 0.7948 - 131ms/epoch - 1ms/step\n",
      "Epoch 7/100\n",
      "98/98 - 0s - loss: 0.8301 - rmse: 0.8301 - val_loss: 0.7713 - val_rmse: 0.7729 - 107ms/epoch - 1ms/step\n",
      "Epoch 8/100\n",
      "98/98 - 0s - loss: 0.8182 - rmse: 0.8182 - val_loss: 0.7576 - val_rmse: 0.7595 - 108ms/epoch - 1ms/step\n",
      "Epoch 9/100\n",
      "98/98 - 0s - loss: 0.8102 - rmse: 0.8102 - val_loss: 0.7438 - val_rmse: 0.7453 - 109ms/epoch - 1ms/step\n",
      "Epoch 10/100\n",
      "98/98 - 0s - loss: 0.7976 - rmse: 0.7976 - val_loss: 0.7373 - val_rmse: 0.7393 - 110ms/epoch - 1ms/step\n",
      "Epoch 11/100\n",
      "98/98 - 0s - loss: 0.7880 - rmse: 0.7879 - val_loss: 0.7253 - val_rmse: 0.7267 - 109ms/epoch - 1ms/step\n",
      "Epoch 12/100\n",
      "98/98 - 0s - loss: 0.7821 - rmse: 0.7822 - val_loss: 0.7186 - val_rmse: 0.7197 - 106ms/epoch - 1ms/step\n",
      "Epoch 13/100\n",
      "98/98 - 0s - loss: 0.7761 - rmse: 0.7761 - val_loss: 0.7147 - val_rmse: 0.7165 - 105ms/epoch - 1ms/step\n",
      "Epoch 14/100\n",
      "98/98 - 0s - loss: 0.7715 - rmse: 0.7714 - val_loss: 0.7170 - val_rmse: 0.7194 - 104ms/epoch - 1ms/step\n",
      "Epoch 15/100\n",
      "98/98 - 0s - loss: 0.7700 - rmse: 0.7700 - val_loss: 0.7199 - val_rmse: 0.7228 - 111ms/epoch - 1ms/step\n",
      "Epoch 16/100\n",
      "98/98 - 0s - loss: 0.7693 - rmse: 0.7693 - val_loss: 0.6991 - val_rmse: 0.6999 - 111ms/epoch - 1ms/step\n",
      "Epoch 17/100\n",
      "98/98 - 0s - loss: 0.7568 - rmse: 0.7568 - val_loss: 0.6954 - val_rmse: 0.6963 - 191ms/epoch - 2ms/step\n",
      "Epoch 18/100\n",
      "98/98 - 0s - loss: 0.7579 - rmse: 0.7581 - val_loss: 0.6999 - val_rmse: 0.6995 - 146ms/epoch - 1ms/step\n",
      "Epoch 19/100\n",
      "98/98 - 0s - loss: 0.7505 - rmse: 0.7506 - val_loss: 0.6999 - val_rmse: 0.7022 - 133ms/epoch - 1ms/step\n",
      "Epoch 20/100\n",
      "98/98 - 0s - loss: 0.7476 - rmse: 0.7475 - val_loss: 0.6889 - val_rmse: 0.6901 - 102ms/epoch - 1ms/step\n",
      "Epoch 21/100\n",
      "98/98 - 0s - loss: 0.7475 - rmse: 0.7476 - val_loss: 0.6874 - val_rmse: 0.6881 - 124ms/epoch - 1ms/step\n",
      "Epoch 22/100\n",
      "98/98 - 0s - loss: 0.7459 - rmse: 0.7460 - val_loss: 0.6878 - val_rmse: 0.6882 - 186ms/epoch - 2ms/step\n",
      "Epoch 23/100\n",
      "98/98 - 0s - loss: 0.7452 - rmse: 0.7452 - val_loss: 0.6873 - val_rmse: 0.6887 - 148ms/epoch - 2ms/step\n",
      "Epoch 24/100\n",
      "98/98 - 0s - loss: 0.7412 - rmse: 0.7412 - val_loss: 0.6862 - val_rmse: 0.6863 - 103ms/epoch - 1ms/step\n",
      "Epoch 25/100\n",
      "98/98 - 0s - loss: 0.7392 - rmse: 0.7392 - val_loss: 0.6874 - val_rmse: 0.6890 - 123ms/epoch - 1ms/step\n",
      "Epoch 26/100\n",
      "98/98 - 0s - loss: 0.7399 - rmse: 0.7400 - val_loss: 0.6861 - val_rmse: 0.6876 - 204ms/epoch - 2ms/step\n",
      "Epoch 27/100\n",
      "98/98 - 0s - loss: 0.7400 - rmse: 0.7400 - val_loss: 0.6855 - val_rmse: 0.6856 - 116ms/epoch - 1ms/step\n",
      "Epoch 28/100\n",
      "98/98 - 0s - loss: 0.7400 - rmse: 0.7399 - val_loss: 0.6900 - val_rmse: 0.6920 - 96ms/epoch - 975us/step\n",
      "Epoch 29/100\n",
      "98/98 - 0s - loss: 0.7382 - rmse: 0.7382 - val_loss: 0.6902 - val_rmse: 0.6923 - 96ms/epoch - 975us/step\n",
      "Epoch 30/100\n",
      "98/98 - 0s - loss: 0.7367 - rmse: 0.7367 - val_loss: 0.6848 - val_rmse: 0.6863 - 99ms/epoch - 1ms/step\n",
      "Epoch 31/100\n",
      "98/98 - 0s - loss: 0.7366 - rmse: 0.7366 - val_loss: 0.6822 - val_rmse: 0.6833 - 101ms/epoch - 1ms/step\n",
      "Epoch 32/100\n",
      "98/98 - 0s - loss: 0.7364 - rmse: 0.7364 - val_loss: 0.6868 - val_rmse: 0.6885 - 106ms/epoch - 1ms/step\n",
      "Epoch 33/100\n",
      "98/98 - 0s - loss: 0.7364 - rmse: 0.7365 - val_loss: 0.6816 - val_rmse: 0.6822 - 97ms/epoch - 994us/step\n",
      "Epoch 34/100\n",
      "98/98 - 0s - loss: 0.7344 - rmse: 0.7343 - val_loss: 0.6851 - val_rmse: 0.6851 - 94ms/epoch - 954us/step\n",
      "Epoch 35/100\n",
      "98/98 - 0s - loss: 0.7353 - rmse: 0.7353 - val_loss: 0.6899 - val_rmse: 0.6893 - 107ms/epoch - 1ms/step\n",
      "Epoch 36/100\n",
      "98/98 - 0s - loss: 0.7346 - rmse: 0.7345 - val_loss: 0.6908 - val_rmse: 0.6903 - 204ms/epoch - 2ms/step\n",
      "Epoch 37/100\n",
      "98/98 - 0s - loss: 0.7329 - rmse: 0.7328 - val_loss: 0.6818 - val_rmse: 0.6825 - 188ms/epoch - 2ms/step\n",
      "Epoch 38/100\n",
      "98/98 - 0s - loss: 0.7352 - rmse: 0.7353 - val_loss: 0.6812 - val_rmse: 0.6817 - 115ms/epoch - 1ms/step\n",
      "Epoch 39/100\n",
      "98/98 - 0s - loss: 0.7333 - rmse: 0.7333 - val_loss: 0.6825 - val_rmse: 0.6837 - 114ms/epoch - 1ms/step\n",
      "Epoch 40/100\n",
      "98/98 - 0s - loss: 0.7314 - rmse: 0.7314 - val_loss: 0.6828 - val_rmse: 0.6842 - 102ms/epoch - 1ms/step\n",
      "Epoch 41/100\n",
      "98/98 - 0s - loss: 0.7335 - rmse: 0.7335 - val_loss: 0.6856 - val_rmse: 0.6872 - 98ms/epoch - 998us/step\n",
      "Epoch 42/100\n",
      "98/98 - 0s - loss: 0.7324 - rmse: 0.7324 - val_loss: 0.6873 - val_rmse: 0.6889 - 96ms/epoch - 979us/step\n",
      "Epoch 43/100\n",
      "98/98 - 0s - loss: 0.7306 - rmse: 0.7305 - val_loss: 0.6855 - val_rmse: 0.6870 - 94ms/epoch - 955us/step\n",
      "Epoch 44/100\n",
      "98/98 - 0s - loss: 0.7297 - rmse: 0.7299 - val_loss: 0.6814 - val_rmse: 0.6822 - 95ms/epoch - 974us/step\n",
      "Epoch 45/100\n",
      "98/98 - 0s - loss: 0.7293 - rmse: 0.7293 - val_loss: 0.6871 - val_rmse: 0.6888 - 102ms/epoch - 1ms/step\n",
      "Epoch 46/100\n",
      "98/98 - 0s - loss: 0.7308 - rmse: 0.7307 - val_loss: 0.6833 - val_rmse: 0.6846 - 96ms/epoch - 977us/step\n",
      "Epoch 47/100\n",
      "98/98 - 0s - loss: 0.7273 - rmse: 0.7274 - val_loss: 0.6843 - val_rmse: 0.6857 - 92ms/epoch - 936us/step\n",
      "Epoch 48/100\n",
      "98/98 - 0s - loss: 0.7329 - rmse: 0.7329 - val_loss: 0.6820 - val_rmse: 0.6823 - 107ms/epoch - 1ms/step\n",
      "Epoch 49/100\n",
      "98/98 - 0s - loss: 0.7263 - rmse: 0.7262 - val_loss: 0.6844 - val_rmse: 0.6843 - 168ms/epoch - 2ms/step\n",
      "Epoch 50/100\n",
      "98/98 - 0s - loss: 0.7288 - rmse: 0.7288 - val_loss: 0.6814 - val_rmse: 0.6814 - 96ms/epoch - 981us/step\n",
      "Epoch 51/100\n",
      "98/98 - 0s - loss: 0.7301 - rmse: 0.7300 - val_loss: 0.6903 - val_rmse: 0.6898 - 103ms/epoch - 1ms/step\n",
      "Epoch 52/100\n",
      "98/98 - 0s - loss: 0.7278 - rmse: 0.7278 - val_loss: 0.6824 - val_rmse: 0.6839 - 100ms/epoch - 1ms/step\n",
      "Epoch 53/100\n",
      "98/98 - 0s - loss: 0.7271 - rmse: 0.7271 - val_loss: 0.6868 - val_rmse: 0.6886 - 99ms/epoch - 1ms/step\n",
      "Epoch 54/100\n",
      "98/98 - 0s - loss: 0.7279 - rmse: 0.7278 - val_loss: 0.6899 - val_rmse: 0.6894 - 102ms/epoch - 1ms/step\n",
      "Epoch 55/100\n",
      "98/98 - 0s - loss: 0.7283 - rmse: 0.7282 - val_loss: 0.6826 - val_rmse: 0.6839 - 97ms/epoch - 987us/step\n",
      "Epoch 56/100\n",
      "98/98 - 0s - loss: 0.7279 - rmse: 0.7280 - val_loss: 0.6795 - val_rmse: 0.6803 - 99ms/epoch - 1ms/step\n",
      "Epoch 57/100\n",
      "98/98 - 0s - loss: 0.7268 - rmse: 0.7270 - val_loss: 0.6803 - val_rmse: 0.6810 - 96ms/epoch - 983us/step\n",
      "Epoch 58/100\n",
      "98/98 - 0s - loss: 0.7268 - rmse: 0.7268 - val_loss: 0.6811 - val_rmse: 0.6824 - 103ms/epoch - 1ms/step\n",
      "Epoch 59/100\n",
      "98/98 - 0s - loss: 0.7243 - rmse: 0.7244 - val_loss: 0.6829 - val_rmse: 0.6832 - 104ms/epoch - 1ms/step\n",
      "Epoch 60/100\n",
      "98/98 - 0s - loss: 0.7283 - rmse: 0.7284 - val_loss: 0.6806 - val_rmse: 0.6818 - 99ms/epoch - 1ms/step\n",
      "Epoch 61/100\n",
      "98/98 - 0s - loss: 0.7247 - rmse: 0.7248 - val_loss: 0.7123 - val_rmse: 0.7152 - 97ms/epoch - 985us/step\n",
      "Epoch 62/100\n",
      "98/98 - 0s - loss: 0.7250 - rmse: 0.7251 - val_loss: 0.6804 - val_rmse: 0.6809 - 98ms/epoch - 1ms/step\n",
      "Epoch 63/100\n",
      "98/98 - 0s - loss: 0.7242 - rmse: 0.7241 - val_loss: 0.6806 - val_rmse: 0.6819 - 98ms/epoch - 1ms/step\n",
      "Epoch 64/100\n",
      "98/98 - 0s - loss: 0.7220 - rmse: 0.7219 - val_loss: 0.6797 - val_rmse: 0.6804 - 95ms/epoch - 972us/step\n",
      "Epoch 65/100\n",
      "98/98 - 0s - loss: 0.7243 - rmse: 0.7243 - val_loss: 0.6965 - val_rmse: 0.6988 - 98ms/epoch - 1000us/step\n",
      "Epoch 66/100\n",
      "98/98 - 0s - loss: 0.7239 - rmse: 0.7239 - val_loss: 0.6813 - val_rmse: 0.6814 - 95ms/epoch - 969us/step\n",
      "Epoch 67/100\n",
      "98/98 - 0s - loss: 0.7223 - rmse: 0.7222 - val_loss: 0.6844 - val_rmse: 0.6841 - 96ms/epoch - 981us/step\n",
      "Epoch 68/100\n",
      "98/98 - 0s - loss: 0.7226 - rmse: 0.7225 - val_loss: 0.6795 - val_rmse: 0.6805 - 102ms/epoch - 1ms/step\n",
      "Epoch 69/100\n",
      "98/98 - 0s - loss: 0.7258 - rmse: 0.7258 - val_loss: 0.6790 - val_rmse: 0.6797 - 109ms/epoch - 1ms/step\n",
      "Epoch 70/100\n",
      "98/98 - 0s - loss: 0.7240 - rmse: 0.7239 - val_loss: 0.6869 - val_rmse: 0.6867 - 93ms/epoch - 953us/step\n",
      "Epoch 71/100\n",
      "98/98 - 0s - loss: 0.7237 - rmse: 0.7237 - val_loss: 0.6819 - val_rmse: 0.6819 - 98ms/epoch - 999us/step\n",
      "Epoch 72/100\n",
      "98/98 - 0s - loss: 0.7207 - rmse: 0.7206 - val_loss: 0.6796 - val_rmse: 0.6805 - 95ms/epoch - 966us/step\n",
      "Epoch 73/100\n",
      "98/98 - 0s - loss: 0.7224 - rmse: 0.7224 - val_loss: 0.6824 - val_rmse: 0.6841 - 93ms/epoch - 947us/step\n",
      "Epoch 74/100\n",
      "98/98 - 0s - loss: 0.7220 - rmse: 0.7220 - val_loss: 0.6803 - val_rmse: 0.6816 - 95ms/epoch - 972us/step\n",
      "Epoch 75/100\n",
      "98/98 - 0s - loss: 0.7227 - rmse: 0.7229 - val_loss: 0.6810 - val_rmse: 0.6826 - 96ms/epoch - 978us/step\n",
      "Epoch 76/100\n",
      "98/98 - 0s - loss: 0.7209 - rmse: 0.7208 - val_loss: 0.6781 - val_rmse: 0.6791 - 96ms/epoch - 978us/step\n",
      "Epoch 77/100\n",
      "98/98 - 0s - loss: 0.7233 - rmse: 0.7233 - val_loss: 0.6791 - val_rmse: 0.6803 - 104ms/epoch - 1ms/step\n",
      "Epoch 78/100\n",
      "98/98 - 0s - loss: 0.7226 - rmse: 0.7225 - val_loss: 0.6807 - val_rmse: 0.6823 - 96ms/epoch - 978us/step\n",
      "Epoch 79/100\n",
      "98/98 - 0s - loss: 0.7232 - rmse: 0.7233 - val_loss: 0.6787 - val_rmse: 0.6800 - 93ms/epoch - 950us/step\n",
      "Epoch 80/100\n",
      "98/98 - 0s - loss: 0.7213 - rmse: 0.7212 - val_loss: 0.6783 - val_rmse: 0.6790 - 98ms/epoch - 1ms/step\n",
      "Epoch 81/100\n",
      "98/98 - 0s - loss: 0.7193 - rmse: 0.7194 - val_loss: 0.6784 - val_rmse: 0.6796 - 95ms/epoch - 972us/step\n",
      "Epoch 82/100\n",
      "98/98 - 0s - loss: 0.7201 - rmse: 0.7201 - val_loss: 0.6887 - val_rmse: 0.6909 - 93ms/epoch - 945us/step\n",
      "Epoch 83/100\n",
      "98/98 - 0s - loss: 0.7203 - rmse: 0.7202 - val_loss: 0.6813 - val_rmse: 0.6829 - 98ms/epoch - 1ms/step\n",
      "Epoch 84/100\n",
      "98/98 - 0s - loss: 0.7200 - rmse: 0.7199 - val_loss: 0.6801 - val_rmse: 0.6816 - 97ms/epoch - 988us/step\n",
      "Epoch 85/100\n",
      "98/98 - 0s - loss: 0.7190 - rmse: 0.7189 - val_loss: 0.7040 - val_rmse: 0.7027 - 95ms/epoch - 973us/step\n",
      "Epoch 86/100\n",
      "98/98 - 0s - loss: 0.7237 - rmse: 0.7236 - val_loss: 0.6936 - val_rmse: 0.6960 - 98ms/epoch - 996us/step\n",
      "Epoch 87/100\n",
      "98/98 - 0s - loss: 0.7238 - rmse: 0.7237 - val_loss: 0.6777 - val_rmse: 0.6782 - 105ms/epoch - 1ms/step\n",
      "Epoch 88/100\n",
      "98/98 - 0s - loss: 0.7191 - rmse: 0.7192 - val_loss: 0.6913 - val_rmse: 0.6936 - 100ms/epoch - 1ms/step\n",
      "Epoch 89/100\n",
      "98/98 - 0s - loss: 0.7180 - rmse: 0.7180 - val_loss: 0.6829 - val_rmse: 0.6829 - 99ms/epoch - 1ms/step\n",
      "Epoch 90/100\n",
      "98/98 - 0s - loss: 0.7202 - rmse: 0.7203 - val_loss: 0.6820 - val_rmse: 0.6836 - 103ms/epoch - 1ms/step\n",
      "Epoch 91/100\n",
      "98/98 - 0s - loss: 0.7182 - rmse: 0.7181 - val_loss: 0.6773 - val_rmse: 0.6788 - 94ms/epoch - 954us/step\n",
      "Epoch 92/100\n",
      "98/98 - 0s - loss: 0.7205 - rmse: 0.7205 - val_loss: 0.6816 - val_rmse: 0.6819 - 96ms/epoch - 975us/step\n",
      "Epoch 93/100\n",
      "98/98 - 0s - loss: 0.7197 - rmse: 0.7198 - val_loss: 0.6787 - val_rmse: 0.6794 - 94ms/epoch - 962us/step\n",
      "Epoch 94/100\n",
      "98/98 - 0s - loss: 0.7212 - rmse: 0.7212 - val_loss: 0.6807 - val_rmse: 0.6826 - 94ms/epoch - 958us/step\n",
      "Epoch 95/100\n",
      "98/98 - 0s - loss: 0.7145 - rmse: 0.7146 - val_loss: 0.6767 - val_rmse: 0.6778 - 91ms/epoch - 932us/step\n",
      "Epoch 96/100\n",
      "98/98 - 0s - loss: 0.7159 - rmse: 0.7159 - val_loss: 0.6885 - val_rmse: 0.6909 - 97ms/epoch - 994us/step\n",
      "Epoch 97/100\n",
      "98/98 - 0s - loss: 0.7173 - rmse: 0.7172 - val_loss: 0.6958 - val_rmse: 0.6985 - 93ms/epoch - 949us/step\n",
      "Epoch 98/100\n",
      "98/98 - 0s - loss: 0.7162 - rmse: 0.7161 - val_loss: 0.6799 - val_rmse: 0.6802 - 92ms/epoch - 943us/step\n",
      "Epoch 99/100\n",
      "98/98 - 0s - loss: 0.7152 - rmse: 0.7152 - val_loss: 0.6917 - val_rmse: 0.6912 - 96ms/epoch - 979us/step\n",
      "Epoch 100/100\n",
      "98/98 - 0s - loss: 0.7170 - rmse: 0.7168 - val_loss: 0.6754 - val_rmse: 0.6768 - 98ms/epoch - 997us/step\n"
     ]
    }
   ],
   "source": [
    "history = model.fit(X_train,\n",
    "                    y_train,\n",
    "                    epochs=100,\n",
    "                    validation_data=(X_val, y_val), \n",
    "                    verbose=2,\n",
    "                   )"
   ]
  },
  {
   "cell_type": "code",
   "execution_count": 38,
   "id": "225fff85",
   "metadata": {},
   "outputs": [
    {
     "data": {
      "image/png": "[encoded data removed]",
      "text/plain": [
       "<Figure size 720x432 with 1 Axes>"
      ]
     },
     "metadata": {
      "needs_background": "light"
     },
     "output_type": "display_data"
    }
   ],
   "source": [
    "plt.plot(history.history['loss'][3:], label='loss')\n",
    "plt.plot(history.history['val_loss'][3:], label='val_loss')\n",
    "plt.title('model loss')\n",
    "plt.ylabel('loss')\n",
    "plt.xlabel('epoch')\n",
    "plt.legend(loc='upper right')\n",
    "plt.show()"
   ]
  },
  {
   "cell_type": "code",
   "execution_count": 39,
   "id": "d8f712a5",
   "metadata": {},
   "outputs": [],
   "source": [
    "predictions = model.predict(X_test)"
   ]
  },
  {
   "cell_type": "code",
   "execution_count": 40,
   "id": "bbecc708",
   "metadata": {},
   "outputs": [
    {
     "data": {
      "text/plain": [
       "array([[6.1926785],\n",
       "       [6.6950445],\n",
       "       [6.5280147],\n",
       "       [5.943518 ],\n",
       "       [6.614054 ],\n",
       "       [6.338695 ],\n",
       "       [5.2597036],\n",
       "       [5.0476494],\n",
       "       [5.8524604],\n",
       "       [5.3517785]], dtype=float32)"
      ]
     },
     "execution_count": 40,
     "metadata": {},
     "output_type": "execute_result"
    }
   ],
   "source": [
    "predictions[:10]"
   ]
  },
  {
   "cell_type": "code",
   "execution_count": 41,
   "id": "90a0e1d0",
   "metadata": {},
   "outputs": [
    {
     "data": {
      "text/plain": [
       "2.9632468"
      ]
     },
     "execution_count": 41,
     "metadata": {},
     "output_type": "execute_result"
    }
   ],
   "source": [
    "predictions.min()"
   ]
  },
  {
   "cell_type": "code",
   "execution_count": 42,
   "id": "a09a757f",
   "metadata": {},
   "outputs": [
    {
     "data": {
      "text/plain": [
       "7.2764964"
      ]
     },
     "execution_count": 42,
     "metadata": {},
     "output_type": "execute_result"
    }
   ],
   "source": [
    "predictions.max()"
   ]
  },
  {
   "cell_type": "code",
   "execution_count": 43,
   "id": "83b045f0",
   "metadata": {},
   "outputs": [
    {
     "data": {
      "text/plain": [
       "array([7, 8, 8, 5, 7, 6, 5, 4, 6, 5], dtype=int64)"
      ]
     },
     "execution_count": 43,
     "metadata": {},
     "output_type": "execute_result"
    }
   ],
   "source": [
    "y_real = y_test.to_numpy()\n",
    "y_real[:10]"
   ]
  },
  {
   "cell_type": "code",
   "execution_count": 44,
   "id": "274eab46",
   "metadata": {},
   "outputs": [
    {
     "data": {
      "text/plain": [
       "[<matplotlib.lines.Line2D at 0x28dfe2b8a30>]"
      ]
     },
     "execution_count": 44,
     "metadata": {},
     "output_type": "execute_result"
    },
    {
     "data": {
      "image/png": "[encoded data removed]",
      "text/plain": [
       "<Figure size 720x432 with 1 Axes>"
      ]
     },
     "metadata": {
      "needs_background": "light"
     },
     "output_type": "display_data"
    }
   ],
   "source": [
    "plt.plot(y_real, 'r+')\n",
    "plt.plot(np.round(predictions).astype('int64'), 'b+')"
   ]
  },
  {
   "cell_type": "code",
   "execution_count": 45,
   "id": "ca0d5020",
   "metadata": {},
   "outputs": [
    {
     "name": "stdout",
     "output_type": "stream",
     "text": [
      "Real value 7 ==> Prediction 6 .... 6.192678451538086\n",
      "Real value 8 ==> Prediction 7 .... 6.69504451751709\n",
      "Real value 8 ==> Prediction 7 .... 6.528014659881592\n",
      "Real value 5 ==> Prediction 6 .... 5.943518161773682\n",
      "Real value 7 ==> Prediction 7 .... 6.614054203033447\n",
      "Real value 6 ==> Prediction 6 .... 6.338695049285889\n",
      "Real value 5 ==> Prediction 5 .... 5.259703636169434\n",
      "Real value 4 ==> Prediction 5 .... 5.047649383544922\n",
      "Real value 6 ==> Prediction 6 .... 5.8524603843688965\n",
      "Real value 5 ==> Prediction 5 .... 5.351778507232666\n"
     ]
    }
   ],
   "source": [
    "y_real = y_test.to_numpy()\n",
    "for n in range(10):\n",
    "    pred = np.round(predictions[n]).astype('int64')\n",
    "    print(f\"Real value {y_real[n]} ==> Prediction {pred[0]} .... {predictions[n][0]}\")"
   ]
  },
  {
   "cell_type": "code",
   "execution_count": 46,
   "id": "261616e7",
   "metadata": {},
   "outputs": [
    {
     "data": {
      "text/plain": [
       "6.1926785"
      ]
     },
     "execution_count": 46,
     "metadata": {},
     "output_type": "execute_result"
    }
   ],
   "source": [
    "predictions[0][0]"
   ]
  },
  {
   "cell_type": "code",
   "execution_count": 47,
   "id": "b08ab496",
   "metadata": {},
   "outputs": [
    {
     "data": {
      "text/plain": [
       "980"
      ]
     },
     "execution_count": 47,
     "metadata": {},
     "output_type": "execute_result"
    }
   ],
   "source": [
    "len(predictions)"
   ]
  },
  {
   "cell_type": "markdown",
   "id": "d3c4da9e",
   "metadata": {},
   "source": [
    "Calculation of \"Accuraccy\" taking only discrete output values "
   ]
  },
  {
   "cell_type": "code",
   "execution_count": 48,
   "id": "df543ea9",
   "metadata": {
    "scrolled": false
   },
   "outputs": [
    {
     "data": {
      "text/plain": [
       "449"
      ]
     },
     "execution_count": 48,
     "metadata": {},
     "output_type": "execute_result"
    }
   ],
   "source": [
    "num_errors = 0\n",
    "for n in range(len(predictions)):\n",
    "    pred = np.round(predictions[n]).astype('int64')\n",
    "    if (pred[0] - y_real[n]) !=0: \n",
    "        num_errors +=1\n",
    "num_errors"
   ]
  },
  {
   "cell_type": "code",
   "execution_count": 49,
   "id": "828dc8c0",
   "metadata": {},
   "outputs": [
    {
     "name": "stdout",
     "output_type": "stream",
     "text": [
      "Accuraccy: 0.54\n"
     ]
    }
   ],
   "source": [
    "print(f\"Accuraccy: {round(1-(num_errors/len(predictions)),2)}\")"
   ]
  },
  {
   "cell_type": "markdown",
   "id": "7ee9b974",
   "metadata": {},
   "source": [
    "Calculation of \"Accuraccy\" considering values under and above output values "
   ]
  },
  {
   "cell_type": "code",
   "execution_count": 50,
   "id": "c605037d",
   "metadata": {},
   "outputs": [
    {
     "data": {
      "text/plain": [
       "34"
      ]
     },
     "execution_count": 50,
     "metadata": {},
     "output_type": "execute_result"
    }
   ],
   "source": [
    "num_errors = 0\n",
    "for n in range(len(predictions)):\n",
    "    pred = np.round(predictions[n]).astype('int64')\n",
    "    if (abs(pred[0] - y_real[n])) > 1: \n",
    "        num_errors +=1\n",
    "num_errors"
   ]
  },
  {
   "cell_type": "code",
   "execution_count": 51,
   "id": "2938e4b2",
   "metadata": {},
   "outputs": [
    {
     "name": "stdout",
     "output_type": "stream",
     "text": [
      "Accuraccy: 0.97\n"
     ]
    }
   ],
   "source": [
    "print(f\"Accuraccy: {round(1-(num_errors/len(predictions)),2)}\")"
   ]
  },
  {
   "cell_type": "markdown",
   "id": "22b3bcad",
   "metadata": {},
   "source": [
    "Prediction single values"
   ]
  },
  {
   "cell_type": "code",
   "execution_count": 52,
   "id": "085d25b5",
   "metadata": {},
   "outputs": [
    {
     "data": {
      "text/plain": [
       "array([0.3274, 0.3288, 0.25  , 0.089 , 0.177 , 0.1194, 0.1131, 0.4471,\n",
       "       0.3228, 0.0982, 0.2154])"
      ]
     },
     "execution_count": 52,
     "metadata": {},
     "output_type": "execute_result"
    }
   ],
   "source": [
    "tst = np.array([0.3274, 0.3288, 0.2500, 0.0890, 0.1770, 0.1194, 0.1131, 0.4471, 0.3228, 0.0982, 0.2154])\n",
    "tst"
   ]
  },
  {
   "cell_type": "code",
   "execution_count": 53,
   "id": "dd4bc3b3",
   "metadata": {},
   "outputs": [
    {
     "data": {
      "text/plain": [
       "(1, 11)"
      ]
     },
     "execution_count": 53,
     "metadata": {},
     "output_type": "execute_result"
    }
   ],
   "source": [
    "tst = np.reshape(tst, (1, X_train.shape[1]))\n",
    "tst.shape"
   ]
  },
  {
   "cell_type": "code",
   "execution_count": 54,
   "id": "67daba11",
   "metadata": {
    "scrolled": true
   },
   "outputs": [
    {
     "data": {
      "text/plain": [
       "4.198635"
      ]
     },
     "execution_count": 54,
     "metadata": {},
     "output_type": "execute_result"
    }
   ],
   "source": [
    "model.predict(tst)[0][0]"
   ]
  },
  {
   "cell_type": "code",
   "execution_count": 55,
   "id": "5f690cec",
   "metadata": {},
   "outputs": [
    {
     "data": {
      "text/plain": [
       "4.5765147"
      ]
     },
     "execution_count": 55,
     "metadata": {},
     "output_type": "execute_result"
    }
   ],
   "source": [
    "tst = np.array([0.1239, 0.3562, 0.0500, 0.0685, 0.0902, 0.1194, 0.0389, 0.3590, 0.6142, 0.2515, 0.3385])\n",
    "tst = np.reshape(tst, (1, X_train.shape[1]))\n",
    "model.predict(tst)[0][0]"
   ]
  },
  {
   "cell_type": "markdown",
   "id": "5f76f805",
   "metadata": {},
   "source": [
    "### Working with Multi-Output Regression"
   ]
  },
  {
   "cell_type": "markdown",
   "id": "d25d103c",
   "metadata": {},
   "source": [
    "**Split data**"
   ]
  },
  {
   "cell_type": "code",
   "execution_count": 56,
   "id": "83914fdb",
   "metadata": {},
   "outputs": [
    {
     "data": {
      "text/plain": [
       "((3918, 11), (980, 11))"
      ]
     },
     "execution_count": 56,
     "metadata": {},
     "output_type": "execute_result"
    }
   ],
   "source": [
    "from sklearn.model_selection import train_test_split\n",
    "\n",
    "X_train, X_test, y_train, y_test = train_test_split(X, y, test_size=0.2, random_state=42)\n",
    "X_train.shape, X_test.shape"
   ]
  },
  {
   "cell_type": "markdown",
   "id": "dd15548e",
   "metadata": {},
   "source": [
    "**Scale values**"
   ]
  },
  {
   "cell_type": "code",
   "execution_count": 57,
   "id": "fea18a33",
   "metadata": {},
   "outputs": [],
   "source": [
    "# Fit on the train set\n",
    "transformer.fit(X_train)\n",
    "\n",
    "# Apply the transformation\n",
    "X_train = transformer.transform(X_train)\n",
    "X_test = transformer.transform(X_test)"
   ]
  },
  {
   "cell_type": "code",
   "execution_count": 58,
   "id": "d5a440a0",
   "metadata": {},
   "outputs": [
    {
     "data": {
      "text/plain": [
       "((3918, 11), (980, 11))"
      ]
     },
     "execution_count": 58,
     "metadata": {},
     "output_type": "execute_result"
    }
   ],
   "source": [
    "X_train.shape, X_test.shape"
   ]
  },
  {
   "cell_type": "code",
   "execution_count": 59,
   "id": "57628fb0",
   "metadata": {},
   "outputs": [
    {
     "data": {
      "text/plain": [
       "array([0.4375    , 0.08823529, 0.21686747, 0.11656442, 0.05637982,\n",
       "       0.28571429, 0.33333333, 0.108155  , 0.38181818, 0.22093023,\n",
       "       0.70967742])"
      ]
     },
     "execution_count": 59,
     "metadata": {},
     "output_type": "execute_result"
    }
   ],
   "source": [
    "X_train[0]"
   ]
  },
  {
   "cell_type": "code",
   "execution_count": 60,
   "id": "4246bda1",
   "metadata": {},
   "outputs": [
    {
     "data": {
      "text/plain": [
       "array([[0.4375    , 0.08823529, 0.21686747, ..., 0.38181818, 0.22093023,\n",
       "        0.70967742],\n",
       "       [0.3125    , 0.16666667, 0.26506024, ..., 0.41818182, 0.34883721,\n",
       "        0.24193548],\n",
       "       [0.225     , 0.23529412, 0.19879518, ..., 0.48181818, 0.31395349,\n",
       "        0.5       ],\n",
       "       ...,\n",
       "       [0.475     , 0.18627451, 0.31325301, ..., 0.27272727, 0.36046512,\n",
       "        0.5483871 ],\n",
       "       [0.3125    , 0.15686275, 0.1746988 , ..., 0.40909091, 0.18604651,\n",
       "        0.41935484],\n",
       "       [0.5375    , 0.18627451, 0.21084337, ..., 0.45454545, 0.47674419,\n",
       "        0.38709677]])"
      ]
     },
     "execution_count": 60,
     "metadata": {},
     "output_type": "execute_result"
    }
   ],
   "source": [
    "X_train"
   ]
  },
  {
   "cell_type": "code",
   "execution_count": 61,
   "id": "0ae65573",
   "metadata": {},
   "outputs": [
    {
     "data": {
      "text/plain": [
       "4665    6\n",
       "1943    5\n",
       "3399    6\n",
       "843     7\n",
       "2580    5\n",
       "       ..\n",
       "4426    6\n",
       "466     6\n",
       "3092    6\n",
       "3772    6\n",
       "860     8\n",
       "Name: quality, Length: 3918, dtype: int64"
      ]
     },
     "execution_count": 61,
     "metadata": {},
     "output_type": "execute_result"
    }
   ],
   "source": [
    "y_train"
   ]
  },
  {
   "cell_type": "code",
   "execution_count": 62,
   "id": "0840430e",
   "metadata": {},
   "outputs": [
    {
     "data": {
      "text/plain": [
       "3918"
      ]
     },
     "execution_count": 62,
     "metadata": {},
     "output_type": "execute_result"
    }
   ],
   "source": [
    "# Remember the number of samples in the test set\n",
    "num_samples_train = len(X_train)\n",
    "num_samples_train"
   ]
  },
  {
   "cell_type": "code",
   "execution_count": 63,
   "id": "c043a38d",
   "metadata": {},
   "outputs": [
    {
     "data": {
      "text/plain": [
       "980"
      ]
     },
     "execution_count": 63,
     "metadata": {},
     "output_type": "execute_result"
    }
   ],
   "source": [
    "num_samples_test = len(X_test)\n",
    "num_samples_test"
   ]
  },
  {
   "cell_type": "code",
   "execution_count": 64,
   "id": "d53a8311",
   "metadata": {},
   "outputs": [
    {
     "data": {
      "text/plain": [
       "11"
      ]
     },
     "execution_count": 64,
     "metadata": {},
     "output_type": "execute_result"
    }
   ],
   "source": [
    "X_train.shape[1]"
   ]
  },
  {
   "cell_type": "code",
   "execution_count": 65,
   "id": "4cf5a26d",
   "metadata": {},
   "outputs": [
    {
     "data": {
      "text/plain": [
       "[3, 4, 5, 6, 7, 8, 9]"
      ]
     },
     "execution_count": 65,
     "metadata": {},
     "output_type": "execute_result"
    }
   ],
   "source": [
    "classes_values = list (set(y_train))\n",
    "classes_values.sort()\n",
    "classes_values"
   ]
  },
  {
   "cell_type": "code",
   "execution_count": 66,
   "id": "62543432",
   "metadata": {},
   "outputs": [
    {
     "data": {
      "text/plain": [
       "7"
      ]
     },
     "execution_count": 66,
     "metadata": {},
     "output_type": "execute_result"
    }
   ],
   "source": [
    "classes = len(classes_values)\n",
    "classes"
   ]
  },
  {
   "cell_type": "code",
   "execution_count": 67,
   "id": "12a073c4",
   "metadata": {},
   "outputs": [
    {
     "data": {
      "text/plain": [
       "[3, 4, 5, 6, 7, 8]"
      ]
     },
     "execution_count": 67,
     "metadata": {},
     "output_type": "execute_result"
    }
   ],
   "source": [
    "test_classes_values = list (set(y_test))\n",
    "test_classes_values.sort()\n",
    "test_classes_values"
   ]
  },
  {
   "cell_type": "code",
   "execution_count": 68,
   "id": "34f7e795",
   "metadata": {},
   "outputs": [
    {
     "name": "stdout",
     "output_type": "stream",
     "text": [
      "(3134, 11) (3134, 7)\n",
      "(784, 11) (784, 7)\n"
     ]
    }
   ],
   "source": [
    "y_train = tf.keras.utils.to_categorical(y_train - 3, classes)\n",
    "\n",
    "X_train, X_val, y_train, y_val = train_test_split(X_train, y_train, test_size=0.2, random_state=1)\n",
    "print(X_train.shape, y_train.shape)\n",
    "print(X_val.shape, y_val.shape)"
   ]
  },
  {
   "cell_type": "code",
   "execution_count": 69,
   "id": "cad53f58",
   "metadata": {
    "scrolled": true
   },
   "outputs": [],
   "source": [
    "from tensorflow.keras.models import Sequential\n",
    "from tensorflow.keras.layers import Dense\n",
    "from tensorflow.keras.optimizers import Adam\n",
    "\n",
    "# model architecture\n",
    "model = Sequential()\n",
    "model.add(Dense(20, activation='relu'))\n",
    "model.add(Dense(10, activation='relu'))\n",
    "model.add(Dense(classes, name='y_pred'))\n",
    "\n",
    "# this controls the learning rate\n",
    "opt = Adam(learning_rate=0.001, beta_1=0.9, beta_2=0.999)\n",
    "# this controls the batch size, or you can manipulate the tf.data.Dataset objects yourself\n",
    "BATCH_SIZE = 32\n",
    "\n",
    "# train the neural network\n",
    "model.compile(loss='mean_squared_error', optimizer=opt)"
   ]
  },
  {
   "cell_type": "code",
   "execution_count": 70,
   "id": "6f6bd4b1",
   "metadata": {
    "scrolled": true
   },
   "outputs": [
    {
     "name": "stdout",
     "output_type": "stream",
     "text": [
      "Epoch 1/100\n",
      "98/98 - 1s - loss: 0.1159 - val_loss: 0.0941 - 614ms/epoch - 6ms/step\n",
      "Epoch 2/100\n",
      "98/98 - 0s - loss: 0.0951 - val_loss: 0.0912 - 106ms/epoch - 1ms/step\n",
      "Epoch 3/100\n",
      "98/98 - 0s - loss: 0.0929 - val_loss: 0.0895 - 173ms/epoch - 2ms/step\n",
      "Epoch 4/100\n",
      "98/98 - 0s - loss: 0.0912 - val_loss: 0.0883 - 203ms/epoch - 2ms/step\n",
      "Epoch 5/100\n",
      "98/98 - 0s - loss: 0.0900 - val_loss: 0.0868 - 111ms/epoch - 1ms/step\n",
      "Epoch 6/100\n",
      "98/98 - 0s - loss: 0.0895 - val_loss: 0.0867 - 102ms/epoch - 1ms/step\n",
      "Epoch 7/100\n",
      "98/98 - 0s - loss: 0.0890 - val_loss: 0.0859 - 105ms/epoch - 1ms/step\n",
      "Epoch 8/100\n",
      "98/98 - 0s - loss: 0.0886 - val_loss: 0.0855 - 101ms/epoch - 1ms/step\n",
      "Epoch 9/100\n",
      "98/98 - 0s - loss: 0.0883 - val_loss: 0.0849 - 127ms/epoch - 1ms/step\n",
      "Epoch 10/100\n",
      "98/98 - 0s - loss: 0.0880 - val_loss: 0.0852 - 183ms/epoch - 2ms/step\n",
      "Epoch 11/100\n",
      "98/98 - 0s - loss: 0.0876 - val_loss: 0.0842 - 161ms/epoch - 2ms/step\n",
      "Epoch 12/100\n",
      "98/98 - 0s - loss: 0.0874 - val_loss: 0.0838 - 105ms/epoch - 1ms/step\n",
      "Epoch 13/100\n",
      "98/98 - 0s - loss: 0.0870 - val_loss: 0.0838 - 106ms/epoch - 1ms/step\n",
      "Epoch 14/100\n",
      "98/98 - 0s - loss: 0.0868 - val_loss: 0.0843 - 108ms/epoch - 1ms/step\n",
      "Epoch 15/100\n",
      "98/98 - 0s - loss: 0.0864 - val_loss: 0.0837 - 168ms/epoch - 2ms/step\n",
      "Epoch 16/100\n",
      "98/98 - 0s - loss: 0.0862 - val_loss: 0.0827 - 179ms/epoch - 2ms/step\n",
      "Epoch 17/100\n",
      "98/98 - 0s - loss: 0.0860 - val_loss: 0.0827 - 122ms/epoch - 1ms/step\n",
      "Epoch 18/100\n",
      "98/98 - 0s - loss: 0.0859 - val_loss: 0.0822 - 96ms/epoch - 979us/step\n",
      "Epoch 19/100\n",
      "98/98 - 0s - loss: 0.0856 - val_loss: 0.0821 - 115ms/epoch - 1ms/step\n",
      "Epoch 20/100\n",
      "98/98 - 0s - loss: 0.0855 - val_loss: 0.0820 - 101ms/epoch - 1ms/step\n",
      "Epoch 21/100\n",
      "98/98 - 0s - loss: 0.0852 - val_loss: 0.0829 - 100ms/epoch - 1ms/step\n",
      "Epoch 22/100\n",
      "98/98 - 0s - loss: 0.0850 - val_loss: 0.0818 - 147ms/epoch - 2ms/step\n",
      "Epoch 23/100\n",
      "98/98 - 0s - loss: 0.0849 - val_loss: 0.0819 - 200ms/epoch - 2ms/step\n",
      "Epoch 24/100\n",
      "98/98 - 0s - loss: 0.0848 - val_loss: 0.0816 - 182ms/epoch - 2ms/step\n",
      "Epoch 25/100\n",
      "98/98 - 0s - loss: 0.0846 - val_loss: 0.0818 - 168ms/epoch - 2ms/step\n",
      "Epoch 26/100\n",
      "98/98 - 0s - loss: 0.0846 - val_loss: 0.0822 - 106ms/epoch - 1ms/step\n",
      "Epoch 27/100\n",
      "98/98 - 0s - loss: 0.0845 - val_loss: 0.0819 - 90ms/epoch - 923us/step\n",
      "Epoch 28/100\n",
      "98/98 - 0s - loss: 0.0844 - val_loss: 0.0815 - 93ms/epoch - 953us/step\n",
      "Epoch 29/100\n",
      "98/98 - 0s - loss: 0.0843 - val_loss: 0.0818 - 92ms/epoch - 936us/step\n",
      "Epoch 30/100\n",
      "98/98 - 0s - loss: 0.0844 - val_loss: 0.0816 - 92ms/epoch - 939us/step\n",
      "Epoch 31/100\n",
      "98/98 - 0s - loss: 0.0840 - val_loss: 0.0815 - 91ms/epoch - 933us/step\n",
      "Epoch 32/100\n",
      "98/98 - 0s - loss: 0.0841 - val_loss: 0.0812 - 90ms/epoch - 922us/step\n",
      "Epoch 33/100\n",
      "98/98 - 0s - loss: 0.0839 - val_loss: 0.0813 - 93ms/epoch - 946us/step\n",
      "Epoch 34/100\n",
      "98/98 - 0s - loss: 0.0840 - val_loss: 0.0812 - 92ms/epoch - 937us/step\n",
      "Epoch 35/100\n",
      "98/98 - 0s - loss: 0.0837 - val_loss: 0.0817 - 93ms/epoch - 953us/step\n",
      "Epoch 36/100\n",
      "98/98 - 0s - loss: 0.0839 - val_loss: 0.0811 - 95ms/epoch - 974us/step\n",
      "Epoch 37/100\n",
      "98/98 - 0s - loss: 0.0836 - val_loss: 0.0815 - 95ms/epoch - 974us/step\n",
      "Epoch 38/100\n",
      "98/98 - 0s - loss: 0.0835 - val_loss: 0.0822 - 92ms/epoch - 934us/step\n",
      "Epoch 39/100\n",
      "98/98 - 0s - loss: 0.0836 - val_loss: 0.0814 - 94ms/epoch - 964us/step\n",
      "Epoch 40/100\n",
      "98/98 - 0s - loss: 0.0835 - val_loss: 0.0810 - 97ms/epoch - 988us/step\n",
      "Epoch 41/100\n",
      "98/98 - 0s - loss: 0.0835 - val_loss: 0.0818 - 89ms/epoch - 908us/step\n",
      "Epoch 42/100\n",
      "98/98 - 0s - loss: 0.0835 - val_loss: 0.0813 - 92ms/epoch - 942us/step\n",
      "Epoch 43/100\n",
      "98/98 - 0s - loss: 0.0833 - val_loss: 0.0811 - 91ms/epoch - 929us/step\n",
      "Epoch 44/100\n",
      "98/98 - 0s - loss: 0.0832 - val_loss: 0.0814 - 90ms/epoch - 920us/step\n",
      "Epoch 45/100\n",
      "98/98 - 0s - loss: 0.0832 - val_loss: 0.0813 - 92ms/epoch - 937us/step\n",
      "Epoch 46/100\n",
      "98/98 - 0s - loss: 0.0832 - val_loss: 0.0813 - 90ms/epoch - 922us/step\n",
      "Epoch 47/100\n",
      "98/98 - 0s - loss: 0.0834 - val_loss: 0.0814 - 96ms/epoch - 979us/step\n",
      "Epoch 48/100\n",
      "98/98 - 0s - loss: 0.0831 - val_loss: 0.0815 - 87ms/epoch - 890us/step\n",
      "Epoch 49/100\n",
      "98/98 - 0s - loss: 0.0830 - val_loss: 0.0813 - 92ms/epoch - 941us/step\n",
      "Epoch 50/100\n",
      "98/98 - 0s - loss: 0.0829 - val_loss: 0.0819 - 89ms/epoch - 912us/step\n",
      "Epoch 51/100\n",
      "98/98 - 0s - loss: 0.0830 - val_loss: 0.0813 - 88ms/epoch - 901us/step\n",
      "Epoch 52/100\n",
      "98/98 - 0s - loss: 0.0829 - val_loss: 0.0809 - 88ms/epoch - 893us/step\n",
      "Epoch 53/100\n",
      "98/98 - 0s - loss: 0.0828 - val_loss: 0.0810 - 90ms/epoch - 918us/step\n",
      "Epoch 54/100\n",
      "98/98 - 0s - loss: 0.0828 - val_loss: 0.0809 - 91ms/epoch - 930us/step\n",
      "Epoch 55/100\n",
      "98/98 - 0s - loss: 0.0827 - val_loss: 0.0814 - 86ms/epoch - 881us/step\n",
      "Epoch 56/100\n",
      "98/98 - 0s - loss: 0.0828 - val_loss: 0.0807 - 90ms/epoch - 917us/step\n",
      "Epoch 57/100\n",
      "98/98 - 0s - loss: 0.0825 - val_loss: 0.0816 - 90ms/epoch - 920us/step\n",
      "Epoch 58/100\n",
      "98/98 - 0s - loss: 0.0826 - val_loss: 0.0818 - 95ms/epoch - 965us/step\n",
      "Epoch 59/100\n",
      "98/98 - 0s - loss: 0.0825 - val_loss: 0.0811 - 91ms/epoch - 933us/step\n",
      "Epoch 60/100\n",
      "98/98 - 0s - loss: 0.0824 - val_loss: 0.0807 - 90ms/epoch - 916us/step\n",
      "Epoch 61/100\n",
      "98/98 - 0s - loss: 0.0824 - val_loss: 0.0809 - 99ms/epoch - 1ms/step\n",
      "Epoch 62/100\n",
      "98/98 - 0s - loss: 0.0824 - val_loss: 0.0811 - 98ms/epoch - 996us/step\n",
      "Epoch 63/100\n",
      "98/98 - 0s - loss: 0.0822 - val_loss: 0.0817 - 90ms/epoch - 919us/step\n",
      "Epoch 64/100\n",
      "98/98 - 0s - loss: 0.0824 - val_loss: 0.0809 - 94ms/epoch - 964us/step\n",
      "Epoch 65/100\n",
      "98/98 - 0s - loss: 0.0825 - val_loss: 0.0821 - 87ms/epoch - 889us/step\n",
      "Epoch 66/100\n",
      "98/98 - 0s - loss: 0.0823 - val_loss: 0.0814 - 91ms/epoch - 926us/step\n",
      "Epoch 67/100\n",
      "98/98 - 0s - loss: 0.0826 - val_loss: 0.0810 - 86ms/epoch - 876us/step\n",
      "Epoch 68/100\n",
      "98/98 - 0s - loss: 0.0823 - val_loss: 0.0815 - 93ms/epoch - 952us/step\n",
      "Epoch 69/100\n",
      "98/98 - 0s - loss: 0.0823 - val_loss: 0.0812 - 95ms/epoch - 968us/step\n",
      "Epoch 70/100\n",
      "98/98 - 0s - loss: 0.0822 - val_loss: 0.0815 - 92ms/epoch - 941us/step\n",
      "Epoch 71/100\n",
      "98/98 - 0s - loss: 0.0822 - val_loss: 0.0814 - 92ms/epoch - 944us/step\n",
      "Epoch 72/100\n",
      "98/98 - 0s - loss: 0.0824 - val_loss: 0.0810 - 95ms/epoch - 967us/step\n",
      "Epoch 73/100\n",
      "98/98 - 0s - loss: 0.0823 - val_loss: 0.0809 - 93ms/epoch - 948us/step\n",
      "Epoch 74/100\n",
      "98/98 - 0s - loss: 0.0821 - val_loss: 0.0814 - 92ms/epoch - 935us/step\n",
      "Epoch 75/100\n",
      "98/98 - 0s - loss: 0.0822 - val_loss: 0.0821 - 92ms/epoch - 939us/step\n",
      "Epoch 76/100\n",
      "98/98 - 0s - loss: 0.0822 - val_loss: 0.0811 - 92ms/epoch - 936us/step\n",
      "Epoch 77/100\n",
      "98/98 - 0s - loss: 0.0821 - val_loss: 0.0817 - 95ms/epoch - 966us/step\n",
      "Epoch 78/100\n",
      "98/98 - 0s - loss: 0.0821 - val_loss: 0.0816 - 96ms/epoch - 978us/step\n",
      "Epoch 79/100\n",
      "98/98 - 0s - loss: 0.0821 - val_loss: 0.0817 - 90ms/epoch - 916us/step\n",
      "Epoch 80/100\n",
      "98/98 - 0s - loss: 0.0820 - val_loss: 0.0810 - 104ms/epoch - 1ms/step\n",
      "Epoch 81/100\n",
      "98/98 - 0s - loss: 0.0819 - val_loss: 0.0809 - 95ms/epoch - 971us/step\n",
      "Epoch 82/100\n",
      "98/98 - 0s - loss: 0.0823 - val_loss: 0.0808 - 93ms/epoch - 950us/step\n",
      "Epoch 83/100\n",
      "98/98 - 0s - loss: 0.0821 - val_loss: 0.0813 - 94ms/epoch - 957us/step\n",
      "Epoch 84/100\n",
      "98/98 - 0s - loss: 0.0818 - val_loss: 0.0813 - 91ms/epoch - 924us/step\n",
      "Epoch 85/100\n",
      "98/98 - 0s - loss: 0.0822 - val_loss: 0.0809 - 92ms/epoch - 936us/step\n",
      "Epoch 86/100\n",
      "98/98 - 0s - loss: 0.0818 - val_loss: 0.0814 - 89ms/epoch - 904us/step\n",
      "Epoch 87/100\n",
      "98/98 - 0s - loss: 0.0818 - val_loss: 0.0815 - 92ms/epoch - 935us/step\n",
      "Epoch 88/100\n",
      "98/98 - 0s - loss: 0.0819 - val_loss: 0.0811 - 101ms/epoch - 1ms/step\n",
      "Epoch 89/100\n",
      "98/98 - 0s - loss: 0.0818 - val_loss: 0.0811 - 98ms/epoch - 995us/step\n",
      "Epoch 90/100\n",
      "98/98 - 0s - loss: 0.0820 - val_loss: 0.0817 - 94ms/epoch - 955us/step\n",
      "Epoch 91/100\n",
      "98/98 - 0s - loss: 0.0817 - val_loss: 0.0812 - 93ms/epoch - 953us/step\n",
      "Epoch 92/100\n",
      "98/98 - 0s - loss: 0.0817 - val_loss: 0.0813 - 87ms/epoch - 888us/step\n",
      "Epoch 93/100\n",
      "98/98 - 0s - loss: 0.0817 - val_loss: 0.0816 - 96ms/epoch - 981us/step\n",
      "Epoch 94/100\n",
      "98/98 - 0s - loss: 0.0816 - val_loss: 0.0813 - 91ms/epoch - 931us/step\n",
      "Epoch 95/100\n",
      "98/98 - 0s - loss: 0.0817 - val_loss: 0.0812 - 91ms/epoch - 925us/step\n",
      "Epoch 96/100\n",
      "98/98 - 0s - loss: 0.0816 - val_loss: 0.0822 - 92ms/epoch - 939us/step\n",
      "Epoch 97/100\n",
      "98/98 - 0s - loss: 0.0817 - val_loss: 0.0815 - 92ms/epoch - 941us/step\n",
      "Epoch 98/100\n",
      "98/98 - 0s - loss: 0.0816 - val_loss: 0.0810 - 92ms/epoch - 935us/step\n",
      "Epoch 99/100\n",
      "98/98 - 0s - loss: 0.0815 - val_loss: 0.0811 - 89ms/epoch - 905us/step\n",
      "Epoch 100/100\n",
      "98/98 - 0s - loss: 0.0815 - val_loss: 0.0815 - 95ms/epoch - 972us/step\n"
     ]
    }
   ],
   "source": [
    "history = model.fit(X_train, \n",
    "                    y_train,\n",
    "                    epochs=100, \n",
    "                    batch_size=BATCH_SIZE,\n",
    "                    validation_data=(X_val, y_val), \n",
    "                    verbose=2\n",
    "                   )"
   ]
  },
  {
   "cell_type": "code",
   "execution_count": 71,
   "id": "8ca9cd3f",
   "metadata": {},
   "outputs": [
    {
     "data": {
      "image/png": "[encoded data removed]",
      "text/plain": [
       "<Figure size 720x432 with 1 Axes>"
      ]
     },
     "metadata": {
      "needs_background": "light"
     },
     "output_type": "display_data"
    }
   ],
   "source": [
    "plt.plot(history.history['loss'][0:], label='loss')\n",
    "plt.plot(history.history['val_loss'][0:], label='val_loss')\n",
    "plt.title('model loss')\n",
    "plt.ylabel('loss')\n",
    "plt.xlabel('epoch')\n",
    "plt.legend(loc='upper right')\n",
    "plt.show()"
   ]
  },
  {
   "cell_type": "code",
   "execution_count": 72,
   "id": "d17ba88e",
   "metadata": {},
   "outputs": [],
   "source": [
    "predictions = model.predict(X_test)"
   ]
  },
  {
   "cell_type": "code",
   "execution_count": 73,
   "id": "43f40ab2",
   "metadata": {},
   "outputs": [
    {
     "data": {
      "text/plain": [
       "array([-3.5317428e-04, -5.5876434e-02,  1.4983517e-01,  6.6532606e-01,\n",
       "        2.2267456e-01,  4.8098739e-02, -2.7143478e-03], dtype=float32)"
      ]
     },
     "execution_count": 73,
     "metadata": {},
     "output_type": "execute_result"
    }
   ],
   "source": [
    "p = predictions[0]\n",
    "p"
   ]
  },
  {
   "cell_type": "code",
   "execution_count": 74,
   "id": "7924186c",
   "metadata": {},
   "outputs": [
    {
     "data": {
      "text/plain": [
       "6.460078800097108"
      ]
     },
     "execution_count": 74,
     "metadata": {},
     "output_type": "execute_result"
    }
   ],
   "source": [
    "p = predictions[0]\n",
    "p[0]*3 + p[1]*4 + p[2]*5 + p[3]*6 + p[4]*7 + p[5]*8"
   ]
  },
  {
   "cell_type": "code",
   "execution_count": 75,
   "id": "16592bee",
   "metadata": {},
   "outputs": [
    {
     "data": {
      "text/plain": [
       "6.370006263256073"
      ]
     },
     "execution_count": 75,
     "metadata": {},
     "output_type": "execute_result"
    }
   ],
   "source": [
    "p = predictions[1]\n",
    "p[0]*3 + p[1]*4 + p[2]*5 + p[3]*6 + p[4]*7 + p[5]*8"
   ]
  },
  {
   "cell_type": "code",
   "execution_count": 76,
   "id": "eaa16bb7",
   "metadata": {},
   "outputs": [
    {
     "data": {
      "text/plain": [
       "6.3941710367798805"
      ]
     },
     "execution_count": 76,
     "metadata": {},
     "output_type": "execute_result"
    }
   ],
   "source": [
    "p = predictions[2]\n",
    "p[0]*3 + p[1]*4 + p[2]*5 + p[3]*6 + p[4]*7 + p[5]*8"
   ]
  },
  {
   "cell_type": "code",
   "execution_count": 77,
   "id": "001aea1b",
   "metadata": {},
   "outputs": [
    {
     "data": {
      "text/plain": [
       "array([3, 4], dtype=int64)"
      ]
     },
     "execution_count": 77,
     "metadata": {},
     "output_type": "execute_result"
    }
   ],
   "source": [
    "predictions[0].argsort()[-2:][::-1]"
   ]
  },
  {
   "cell_type": "code",
   "execution_count": 78,
   "id": "39d66f14",
   "metadata": {},
   "outputs": [
    {
     "data": {
      "text/plain": [
       "array([7, 8, 8, 5, 7, 6, 5, 4, 6, 5, 7, 5, 7, 6, 5, 5, 8, 5, 7, 6, 6, 7,\n",
       "       5, 5, 8, 5, 5, 6, 7, 5, 5, 5, 6, 6, 5, 7, 7, 6, 5, 6, 6, 6, 7, 6,\n",
       "       4, 6, 6, 6, 5, 5, 5, 5, 6, 6, 6, 7, 6, 5, 5, 7, 6, 6, 6, 7, 6, 7,\n",
       "       6, 6, 6, 5, 5, 6, 4, 5, 5, 6, 6, 7, 7, 7, 5, 6, 6, 7, 7, 6, 5, 7,\n",
       "       5, 7, 7, 5, 7, 6, 8, 7, 6, 6, 5, 6, 6, 5, 7, 6, 6, 6, 7, 7, 5, 6,\n",
       "       6, 7, 6, 5, 5, 7, 7, 6, 5, 8, 5, 6, 6, 6, 7, 6, 7, 6, 6, 5, 5, 6,\n",
       "       6, 5, 5, 6, 6, 6, 6, 5, 8, 6, 6, 6, 6, 5, 5, 6, 5, 6, 6, 6, 6, 5,\n",
       "       7, 5, 6, 6, 6, 5, 6, 5, 6, 6, 7, 6, 5, 5, 5, 6, 7, 6, 6, 5, 6, 6,\n",
       "       6, 6, 6, 5, 6, 5, 7, 6, 5, 7, 7, 6, 6, 5, 6, 5, 7, 6, 4, 5, 7, 6,\n",
       "       6, 6, 7, 4, 6, 6, 6, 6, 7, 7, 6, 6, 6, 6, 6, 7, 5, 6, 7, 3, 6, 6,\n",
       "       5, 6, 5, 6, 6, 5, 7, 7, 7, 5, 6, 5, 6, 6, 4, 7, 6, 4, 6, 7, 6, 4,\n",
       "       7, 6, 7, 5, 4, 5, 5, 6, 6, 4, 5, 5, 7, 6, 6, 5, 6, 5, 5, 6, 5, 6,\n",
       "       7, 6, 6, 6, 7, 5, 5, 6, 7, 8, 6, 6, 5, 6, 7, 5, 6, 5, 6, 4, 6, 7,\n",
       "       7, 6, 5, 6, 7, 6, 6, 5, 8, 5, 5, 6, 5, 5, 5, 5, 6, 5, 7, 5, 5, 6,\n",
       "       7, 4, 6, 6, 5, 6, 7, 7, 6, 6, 5, 6, 7, 7, 6, 6, 5, 5, 6, 5, 8, 5,\n",
       "       6, 6, 5, 6, 5, 6, 7, 7, 8, 5, 4, 5, 5, 6, 5, 5, 7, 4, 7, 6, 6, 7,\n",
       "       6, 6, 6, 5, 6, 8, 7, 5, 5, 5, 6, 5, 5, 6, 5, 5, 7, 6, 6, 7, 6, 6,\n",
       "       6, 6, 6, 5, 7, 5, 6, 6, 6, 7, 6, 6, 7, 5, 5, 5, 6, 7, 6, 6, 4, 6,\n",
       "       4, 6, 6, 3, 4, 7, 6, 5, 5, 8, 7, 5, 7, 7, 5, 6, 8, 6, 6, 7, 6, 5,\n",
       "       5, 6, 7, 6, 6, 7, 7, 6, 5, 6, 6, 5, 7, 6, 7, 6, 7, 5, 8, 6, 5, 7,\n",
       "       6, 7, 6, 5, 6, 6, 6, 6, 5, 6, 5, 5, 6, 6, 6, 6, 5, 5, 5, 6, 6, 6,\n",
       "       5, 6, 6, 7, 5, 6, 6, 5, 5, 6, 6, 5, 4, 6, 5, 5, 6, 5, 7, 7, 6, 5,\n",
       "       5, 8, 6, 5, 6, 3, 5, 5, 6, 5, 5, 7, 6, 6, 6, 5, 7, 7, 5, 6, 6, 5,\n",
       "       6, 6, 6, 6, 8, 5, 6, 5, 7, 6, 5, 5, 6, 6, 5, 5, 6, 5, 6, 5, 7, 5,\n",
       "       5, 3, 8, 6, 5, 6, 6, 6, 7, 7, 8, 6, 5, 6, 6, 5, 6, 6, 7, 5, 6, 7,\n",
       "       6, 7, 7, 6, 6, 7, 7, 7, 5, 6, 7, 7, 6, 6, 6, 6, 5, 6, 6, 6, 6, 5,\n",
       "       7, 7, 6, 7, 6, 6, 7, 6, 6, 5, 6, 5, 5, 5, 6, 5, 5, 8, 7, 7, 5, 6,\n",
       "       6, 6, 8, 8, 5, 5, 5, 5, 5, 5, 6, 7, 5, 6, 6, 7, 3, 5, 6, 5, 6, 6,\n",
       "       6, 7, 5, 5, 7, 6, 5, 8, 6, 5, 7, 5, 5, 7, 5, 6, 7, 6, 6, 5, 6, 5,\n",
       "       5, 7, 6, 6, 7, 6, 5, 5, 6, 5, 7, 6, 6, 7, 7, 6, 7, 7, 6, 6, 6, 4,\n",
       "       7, 8, 8, 5, 7, 6, 6, 5, 6, 6, 5, 5, 5, 5, 8, 6, 6, 6, 5, 7, 5, 6,\n",
       "       6, 6, 6, 7, 4, 5, 5, 8, 8, 5, 5, 7, 6, 7, 6, 6, 6, 5, 5, 5, 5, 6,\n",
       "       6, 7, 7, 7, 6, 6, 5, 6, 8, 6, 5, 5, 6, 7, 5, 7, 5, 5, 5, 7, 6, 7,\n",
       "       6, 6, 6, 5, 5, 6, 7, 7, 5, 5, 7, 6, 5, 7, 7, 5, 6, 6, 7, 7, 6, 5,\n",
       "       6, 7, 6, 6, 6, 7, 5, 5, 5, 6, 4, 6, 6, 7, 7, 7, 6, 7, 5, 7, 6, 5,\n",
       "       5, 7, 6, 6, 6, 7, 7, 5, 7, 6, 6, 7, 6, 5, 7, 6, 6, 5, 6, 7, 5, 7,\n",
       "       5, 6, 5, 5, 6, 6, 5, 5, 7, 6, 5, 6, 8, 6, 6, 6, 6, 6, 6, 6, 5, 7,\n",
       "       6, 6, 6, 6, 4, 7, 6, 5, 6, 8, 5, 5, 8, 6, 6, 6, 6, 6, 7, 7, 7, 5,\n",
       "       6, 6, 5, 6, 7, 6, 5, 7, 4, 6, 6, 6, 6, 7, 5, 6, 6, 5, 6, 5, 6, 6,\n",
       "       5, 6, 6, 6, 6, 6, 5, 8, 5, 6, 5, 5, 5, 7, 6, 6, 5, 4, 7, 6, 5, 7,\n",
       "       6, 6, 8, 7, 6, 6, 7, 5, 5, 6, 5, 6, 7, 6, 6, 6, 5, 5, 5, 6, 5, 5,\n",
       "       6, 6, 5, 6, 7, 7, 6, 6, 6, 5, 6, 5, 6, 7, 6, 6, 7, 6, 6, 5, 6, 7,\n",
       "       6, 6, 7, 5, 6, 5, 7, 6, 6, 6, 5, 7, 5, 6, 5, 6, 5, 6, 8, 5, 6, 5,\n",
       "       5, 6, 6, 6, 5, 5, 6, 7, 6, 7, 6, 6, 5, 7, 7, 6, 6, 5, 5, 5, 6, 6,\n",
       "       5, 4, 6, 6, 5, 6, 6, 6, 6, 6, 5, 6], dtype=int64)"
      ]
     },
     "execution_count": 78,
     "metadata": {},
     "output_type": "execute_result"
    }
   ],
   "source": [
    "y_real = y_test.to_numpy()\n",
    "y_real"
   ]
  },
  {
   "cell_type": "code",
   "execution_count": 79,
   "id": "62aaff57",
   "metadata": {},
   "outputs": [
    {
     "name": "stdout",
     "output_type": "stream",
     "text": [
      "Real value 7 ==> Prediction 6\n",
      "Real value 8 ==> Prediction 7\n",
      "Real value 8 ==> Prediction 6\n",
      "Real value 5 ==> Prediction 6\n",
      "Real value 7 ==> Prediction 7\n",
      "Real value 6 ==> Prediction 6\n",
      "Real value 5 ==> Prediction 5\n",
      "Real value 4 ==> Prediction 5\n",
      "Real value 6 ==> Prediction 6\n",
      "Real value 5 ==> Prediction 5\n"
     ]
    }
   ],
   "source": [
    "y_real = y_test.to_numpy()\n",
    "for n in range(10):\n",
    "    pred = np.argmax(predictions[n])+3\n",
    "    print(f\"Real value {y_real[n]} ==> Prediction {pred}\")"
   ]
  },
  {
   "cell_type": "code",
   "execution_count": 80,
   "id": "bca898fe",
   "metadata": {},
   "outputs": [
    {
     "data": {
      "text/plain": [
       "980"
      ]
     },
     "execution_count": 80,
     "metadata": {},
     "output_type": "execute_result"
    }
   ],
   "source": [
    "len(predictions)"
   ]
  },
  {
   "cell_type": "markdown",
   "id": "6cc7a729",
   "metadata": {},
   "source": [
    "Calculation of \"Accuraccy\" taking only discrete output values "
   ]
  },
  {
   "cell_type": "code",
   "execution_count": 81,
   "id": "6b9ab994",
   "metadata": {
    "scrolled": false
   },
   "outputs": [
    {
     "data": {
      "text/plain": [
       "466"
      ]
     },
     "execution_count": 81,
     "metadata": {},
     "output_type": "execute_result"
    }
   ],
   "source": [
    "num_errors = 0\n",
    "for n in range(len(predictions)):\n",
    "    pred = np.argmax(predictions[n])+3\n",
    "    if (pred - y_real[n]) !=0: \n",
    "        num_errors +=1\n",
    "num_errors"
   ]
  },
  {
   "cell_type": "code",
   "execution_count": 82,
   "id": "747e7ac8",
   "metadata": {},
   "outputs": [
    {
     "name": "stdout",
     "output_type": "stream",
     "text": [
      "Accuraccy: 0.52\n"
     ]
    }
   ],
   "source": [
    "print(f\"Accuraccy: {round(1-(num_errors/len(predictions)),2)}\")"
   ]
  },
  {
   "cell_type": "markdown",
   "id": "a7d6be4e",
   "metadata": {},
   "source": [
    "Calculation of \"Accuraccy\" considering values under and above output values "
   ]
  },
  {
   "cell_type": "code",
   "execution_count": 83,
   "id": "81ddddd5",
   "metadata": {},
   "outputs": [
    {
     "data": {
      "text/plain": [
       "45"
      ]
     },
     "execution_count": 83,
     "metadata": {},
     "output_type": "execute_result"
    }
   ],
   "source": [
    "num_errors = 0\n",
    "for n in range(len(predictions)):\n",
    "    pred = np.argmax(predictions[n])+3\n",
    "    if (abs(pred - y_real[n])) > 1: \n",
    "        num_errors +=1\n",
    "num_errors"
   ]
  },
  {
   "cell_type": "code",
   "execution_count": 85,
   "id": "27ca2e38",
   "metadata": {},
   "outputs": [
    {
     "name": "stdout",
     "output_type": "stream",
     "text": [
      "Accuraccy: 0.95\n"
     ]
    }
   ],
   "source": [
    "print(f\"Accuraccy: {round(1-(num_errors/len(predictions)),2)}\")"
   ]
  },
  {
   "cell_type": "markdown",
   "id": "eba5a0c2",
   "metadata": {},
   "source": [
    "Prediction single values (ponderated)"
   ]
  },
  {
   "cell_type": "code",
   "execution_count": 86,
   "id": "042dec86",
   "metadata": {},
   "outputs": [
    {
     "data": {
      "text/plain": [
       "array([0.3   , 0.1716, 0.1446, 0.0169, 0.089 , 0.9443, 0.8647, 0.1429,\n",
       "       0.7364, 0.3605, 0.2581])"
      ]
     },
     "execution_count": 86,
     "metadata": {},
     "output_type": "execute_result"
    }
   ],
   "source": [
    "tst = np.array([0.3000, 0.1716, 0.1446, 0.0169, 0.0890, 0.9443, 0.8647, 0.1429, 0.7364, 0.3605, 0.2581])\n",
    "tst"
   ]
  },
  {
   "cell_type": "code",
   "execution_count": 87,
   "id": "50a6db57",
   "metadata": {},
   "outputs": [
    {
     "data": {
      "text/plain": [
       "(1, 11)"
      ]
     },
     "execution_count": 87,
     "metadata": {},
     "output_type": "execute_result"
    }
   ],
   "source": [
    "tst = np.reshape(tst, (1, X_train.shape[1]))\n",
    "tst.shape"
   ]
  },
  {
   "cell_type": "code",
   "execution_count": 88,
   "id": "b837b3b9",
   "metadata": {
    "scrolled": true
   },
   "outputs": [
    {
     "data": {
      "text/plain": [
       "array([[0.02601407, 0.06290801, 0.7551532 , 0.05333997, 0.01922517,\n",
       "        0.07171451, 0.00211812]], dtype=float32)"
      ]
     },
     "execution_count": 88,
     "metadata": {},
     "output_type": "execute_result"
    }
   ],
   "source": [
    "model.predict(tst)"
   ]
  },
  {
   "cell_type": "code",
   "execution_count": 89,
   "id": "ca473f29",
   "metadata": {
    "scrolled": true
   },
   "outputs": [
    {
     "data": {
      "text/plain": [
       "5.133772237226367"
      ]
     },
     "execution_count": 89,
     "metadata": {},
     "output_type": "execute_result"
    }
   ],
   "source": [
    "p = model.predict(tst)[0]\n",
    "p[0]*3 + p[1]*4 + p[2]*5 + p[3]*6 + p[4]*7 + p[5]*8"
   ]
  },
  {
   "cell_type": "code",
   "execution_count": 90,
   "id": "690de622",
   "metadata": {},
   "outputs": [
    {
     "data": {
      "text/plain": [
       "4.602627344429493"
      ]
     },
     "execution_count": 90,
     "metadata": {},
     "output_type": "execute_result"
    }
   ],
   "source": [
    "tst = np.array([0.1239, 0.3562, 0.0500, 0.0685, 0.0902, 0.1194, 0.0389, 0.3590, 0.6142, 0.2515, 0.3385])\n",
    "tst = np.reshape(tst, (1, X_train.shape[1]))\n",
    "model.predict(tst)\n",
    "p = model.predict(tst)[0]\n",
    "p[0]*3 + p[1]*4 + p[2]*5 + p[3]*6 + p[4]*7 + p[5]*8"
   ]
  },
  {
   "cell_type": "code",
   "execution_count": 91,
   "id": "70245606",
   "metadata": {},
   "outputs": [
    {
     "data": {
      "text/plain": [
       "array([ 0.08063598,  0.14221033,  0.47967303,  0.37465245, -0.10634931,\n",
       "       -0.01374457, -0.00835646], dtype=float32)"
      ]
     },
     "execution_count": 91,
     "metadata": {},
     "output_type": "execute_result"
    }
   ],
   "source": [
    "p"
   ]
  }
 ],
 "metadata": {
  "interpreter": {
   "hash": "b89b5cfaba6639976dc87ff2fec6d58faec662063367e2c229c520fe71072417"
  },
  "kernelspec": {
   "display_name": "Python 3.9 (tensorflow)",
   "language": "python",
   "name": "python3"
  },
  "language_info": {
   "codemirror_mode": {
    "name": "ipython",
    "version": 3
   },
   "file_extension": ".py",
   "mimetype": "text/x-python",
   "name": "python",
   "nbconvert_exporter": "python",
   "pygments_lexer": "ipython3",
   "version": "3.10.0"
  }
 },
 "nbformat": 4,
 "nbformat_minor": 5
}
